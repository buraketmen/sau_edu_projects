{
 "cells": [
  {
   "cell_type": "code",
   "execution_count": 1,
   "metadata": {},
   "outputs": [
    {
     "data": {
      "text/html": [
       "        <script type=\"text/javascript\">\n",
       "        window.PlotlyConfig = {MathJaxConfig: 'local'};\n",
       "        if (window.MathJax) {MathJax.Hub.Config({SVG: {font: \"STIX-Web\"}});}\n",
       "        if (typeof require !== 'undefined') {\n",
       "        require.undef(\"plotly\");\n",
       "        requirejs.config({\n",
       "            paths: {\n",
       "                'plotly': ['https://cdn.plot.ly/plotly-latest.min']\n",
       "            }\n",
       "        });\n",
       "        require(['plotly'], function(Plotly) {\n",
       "            window._Plotly = Plotly;\n",
       "        });\n",
       "        }\n",
       "        </script>\n",
       "        "
      ]
     },
     "metadata": {},
     "output_type": "display_data"
    }
   ],
   "source": [
    "import plotly.graph_objs as go\n",
    "import numpy as np\n",
    "import pandas as pd\n",
    "\n",
    "from plotly.offline import iplot, init_notebook_mode\n",
    "init_notebook_mode(connected=True)"
   ]
  },
  {
   "cell_type": "code",
   "execution_count": 2,
   "metadata": {},
   "outputs": [],
   "source": [
    "df = pd.read_csv('covid_19_data.csv')"
   ]
  },
  {
   "cell_type": "code",
   "execution_count": 3,
   "metadata": {},
   "outputs": [
    {
     "data": {
      "text/html": [
       "<div>\n",
       "<style scoped>\n",
       "    .dataframe tbody tr th:only-of-type {\n",
       "        vertical-align: middle;\n",
       "    }\n",
       "\n",
       "    .dataframe tbody tr th {\n",
       "        vertical-align: top;\n",
       "    }\n",
       "\n",
       "    .dataframe thead th {\n",
       "        text-align: right;\n",
       "    }\n",
       "</style>\n",
       "<table border=\"1\" class=\"dataframe\">\n",
       "  <thead>\n",
       "    <tr style=\"text-align: right;\">\n",
       "      <th></th>\n",
       "      <th>SNo</th>\n",
       "      <th>ObservationDate</th>\n",
       "      <th>Province/State</th>\n",
       "      <th>Country/Region</th>\n",
       "      <th>Last Update</th>\n",
       "      <th>Confirmed</th>\n",
       "      <th>Deaths</th>\n",
       "      <th>Recovered</th>\n",
       "    </tr>\n",
       "  </thead>\n",
       "  <tbody>\n",
       "    <tr>\n",
       "      <td>0</td>\n",
       "      <td>1</td>\n",
       "      <td>01/22/2020</td>\n",
       "      <td>Anhui</td>\n",
       "      <td>Mainland China</td>\n",
       "      <td>1/22/2020 17:00</td>\n",
       "      <td>1.0</td>\n",
       "      <td>0.0</td>\n",
       "      <td>0.0</td>\n",
       "    </tr>\n",
       "    <tr>\n",
       "      <td>1</td>\n",
       "      <td>2</td>\n",
       "      <td>01/22/2020</td>\n",
       "      <td>Beijing</td>\n",
       "      <td>Mainland China</td>\n",
       "      <td>1/22/2020 17:00</td>\n",
       "      <td>14.0</td>\n",
       "      <td>0.0</td>\n",
       "      <td>0.0</td>\n",
       "    </tr>\n",
       "    <tr>\n",
       "      <td>2</td>\n",
       "      <td>3</td>\n",
       "      <td>01/22/2020</td>\n",
       "      <td>Chongqing</td>\n",
       "      <td>Mainland China</td>\n",
       "      <td>1/22/2020 17:00</td>\n",
       "      <td>6.0</td>\n",
       "      <td>0.0</td>\n",
       "      <td>0.0</td>\n",
       "    </tr>\n",
       "    <tr>\n",
       "      <td>3</td>\n",
       "      <td>4</td>\n",
       "      <td>01/22/2020</td>\n",
       "      <td>Fujian</td>\n",
       "      <td>Mainland China</td>\n",
       "      <td>1/22/2020 17:00</td>\n",
       "      <td>1.0</td>\n",
       "      <td>0.0</td>\n",
       "      <td>0.0</td>\n",
       "    </tr>\n",
       "    <tr>\n",
       "      <td>4</td>\n",
       "      <td>5</td>\n",
       "      <td>01/22/2020</td>\n",
       "      <td>Gansu</td>\n",
       "      <td>Mainland China</td>\n",
       "      <td>1/22/2020 17:00</td>\n",
       "      <td>0.0</td>\n",
       "      <td>0.0</td>\n",
       "      <td>0.0</td>\n",
       "    </tr>\n",
       "  </tbody>\n",
       "</table>\n",
       "</div>"
      ],
      "text/plain": [
       "   SNo ObservationDate Province/State  Country/Region      Last Update  \\\n",
       "0    1      01/22/2020          Anhui  Mainland China  1/22/2020 17:00   \n",
       "1    2      01/22/2020        Beijing  Mainland China  1/22/2020 17:00   \n",
       "2    3      01/22/2020      Chongqing  Mainland China  1/22/2020 17:00   \n",
       "3    4      01/22/2020         Fujian  Mainland China  1/22/2020 17:00   \n",
       "4    5      01/22/2020          Gansu  Mainland China  1/22/2020 17:00   \n",
       "\n",
       "   Confirmed  Deaths  Recovered  \n",
       "0        1.0     0.0        0.0  \n",
       "1       14.0     0.0        0.0  \n",
       "2        6.0     0.0        0.0  \n",
       "3        1.0     0.0        0.0  \n",
       "4        0.0     0.0        0.0  "
      ]
     },
     "execution_count": 3,
     "metadata": {},
     "output_type": "execute_result"
    }
   ],
   "source": [
    "df.head()"
   ]
  },
  {
   "cell_type": "code",
   "execution_count": 4,
   "metadata": {},
   "outputs": [],
   "source": [
    "df['ObservationDate'] = pd.to_datetime(df['ObservationDate'])"
   ]
  },
  {
   "cell_type": "code",
   "execution_count": 5,
   "metadata": {},
   "outputs": [],
   "source": [
    "df['Confirmed']=df['Confirmed'].astype('int')"
   ]
  },
  {
   "cell_type": "code",
   "execution_count": 6,
   "metadata": {},
   "outputs": [],
   "source": [
    "df['Deaths']=df['Deaths'].astype('int')"
   ]
  },
  {
   "cell_type": "code",
   "execution_count": 7,
   "metadata": {},
   "outputs": [],
   "source": [
    "df['Rate'] = (df['Deaths']/df['Confirmed'])*100"
   ]
  },
  {
   "cell_type": "code",
   "execution_count": 8,
   "metadata": {},
   "outputs": [],
   "source": [
    "df.fillna(0, inplace=True)"
   ]
  },
  {
   "cell_type": "code",
   "execution_count": 9,
   "metadata": {},
   "outputs": [
    {
     "data": {
      "text/html": [
       "<div>\n",
       "<style scoped>\n",
       "    .dataframe tbody tr th:only-of-type {\n",
       "        vertical-align: middle;\n",
       "    }\n",
       "\n",
       "    .dataframe tbody tr th {\n",
       "        vertical-align: top;\n",
       "    }\n",
       "\n",
       "    .dataframe thead th {\n",
       "        text-align: right;\n",
       "    }\n",
       "</style>\n",
       "<table border=\"1\" class=\"dataframe\">\n",
       "  <thead>\n",
       "    <tr style=\"text-align: right;\">\n",
       "      <th></th>\n",
       "      <th>SNo</th>\n",
       "      <th>ObservationDate</th>\n",
       "      <th>Province/State</th>\n",
       "      <th>Country/Region</th>\n",
       "      <th>Last Update</th>\n",
       "      <th>Confirmed</th>\n",
       "      <th>Deaths</th>\n",
       "      <th>Recovered</th>\n",
       "      <th>Rate</th>\n",
       "    </tr>\n",
       "  </thead>\n",
       "  <tbody>\n",
       "    <tr>\n",
       "      <td>0</td>\n",
       "      <td>1</td>\n",
       "      <td>2020-01-22</td>\n",
       "      <td>Anhui</td>\n",
       "      <td>Mainland China</td>\n",
       "      <td>1/22/2020 17:00</td>\n",
       "      <td>1</td>\n",
       "      <td>0</td>\n",
       "      <td>0.0</td>\n",
       "      <td>0.0</td>\n",
       "    </tr>\n",
       "    <tr>\n",
       "      <td>1</td>\n",
       "      <td>2</td>\n",
       "      <td>2020-01-22</td>\n",
       "      <td>Beijing</td>\n",
       "      <td>Mainland China</td>\n",
       "      <td>1/22/2020 17:00</td>\n",
       "      <td>14</td>\n",
       "      <td>0</td>\n",
       "      <td>0.0</td>\n",
       "      <td>0.0</td>\n",
       "    </tr>\n",
       "    <tr>\n",
       "      <td>2</td>\n",
       "      <td>3</td>\n",
       "      <td>2020-01-22</td>\n",
       "      <td>Chongqing</td>\n",
       "      <td>Mainland China</td>\n",
       "      <td>1/22/2020 17:00</td>\n",
       "      <td>6</td>\n",
       "      <td>0</td>\n",
       "      <td>0.0</td>\n",
       "      <td>0.0</td>\n",
       "    </tr>\n",
       "    <tr>\n",
       "      <td>3</td>\n",
       "      <td>4</td>\n",
       "      <td>2020-01-22</td>\n",
       "      <td>Fujian</td>\n",
       "      <td>Mainland China</td>\n",
       "      <td>1/22/2020 17:00</td>\n",
       "      <td>1</td>\n",
       "      <td>0</td>\n",
       "      <td>0.0</td>\n",
       "      <td>0.0</td>\n",
       "    </tr>\n",
       "    <tr>\n",
       "      <td>4</td>\n",
       "      <td>5</td>\n",
       "      <td>2020-01-22</td>\n",
       "      <td>Gansu</td>\n",
       "      <td>Mainland China</td>\n",
       "      <td>1/22/2020 17:00</td>\n",
       "      <td>0</td>\n",
       "      <td>0</td>\n",
       "      <td>0.0</td>\n",
       "      <td>0.0</td>\n",
       "    </tr>\n",
       "  </tbody>\n",
       "</table>\n",
       "</div>"
      ],
      "text/plain": [
       "   SNo ObservationDate Province/State  Country/Region      Last Update  \\\n",
       "0    1      2020-01-22          Anhui  Mainland China  1/22/2020 17:00   \n",
       "1    2      2020-01-22        Beijing  Mainland China  1/22/2020 17:00   \n",
       "2    3      2020-01-22      Chongqing  Mainland China  1/22/2020 17:00   \n",
       "3    4      2020-01-22         Fujian  Mainland China  1/22/2020 17:00   \n",
       "4    5      2020-01-22          Gansu  Mainland China  1/22/2020 17:00   \n",
       "\n",
       "   Confirmed  Deaths  Recovered  Rate  \n",
       "0          1       0        0.0   0.0  \n",
       "1         14       0        0.0   0.0  \n",
       "2          6       0        0.0   0.0  \n",
       "3          1       0        0.0   0.0  \n",
       "4          0       0        0.0   0.0  "
      ]
     },
     "execution_count": 9,
     "metadata": {},
     "output_type": "execute_result"
    }
   ],
   "source": [
    "df.head()"
   ]
  },
  {
   "cell_type": "code",
   "execution_count": 10,
   "metadata": {},
   "outputs": [],
   "source": [
    "grouped_df =df.groupby(['ObservationDate','Country/Region']).sum().reset_index()"
   ]
  },
  {
   "cell_type": "code",
   "execution_count": 11,
   "metadata": {},
   "outputs": [],
   "source": [
    "grouped_df['Rate'] = (grouped_df['Deaths']/grouped_df['Confirmed'])*100"
   ]
  },
  {
   "cell_type": "code",
   "execution_count": 12,
   "metadata": {},
   "outputs": [],
   "source": [
    "grouped_df.fillna(0, inplace=True)"
   ]
  },
  {
   "cell_type": "code",
   "execution_count": 13,
   "metadata": {},
   "outputs": [
    {
     "data": {
      "text/html": [
       "<div>\n",
       "<style scoped>\n",
       "    .dataframe tbody tr th:only-of-type {\n",
       "        vertical-align: middle;\n",
       "    }\n",
       "\n",
       "    .dataframe tbody tr th {\n",
       "        vertical-align: top;\n",
       "    }\n",
       "\n",
       "    .dataframe thead th {\n",
       "        text-align: right;\n",
       "    }\n",
       "</style>\n",
       "<table border=\"1\" class=\"dataframe\">\n",
       "  <thead>\n",
       "    <tr style=\"text-align: right;\">\n",
       "      <th></th>\n",
       "      <th>ObservationDate</th>\n",
       "      <th>Country/Region</th>\n",
       "      <th>SNo</th>\n",
       "      <th>Confirmed</th>\n",
       "      <th>Deaths</th>\n",
       "      <th>Recovered</th>\n",
       "      <th>Rate</th>\n",
       "    </tr>\n",
       "  </thead>\n",
       "  <tbody>\n",
       "    <tr>\n",
       "      <td>0</td>\n",
       "      <td>2020-01-22</td>\n",
       "      <td>Hong Kong</td>\n",
       "      <td>13</td>\n",
       "      <td>0</td>\n",
       "      <td>0</td>\n",
       "      <td>0.0</td>\n",
       "      <td>0.000000</td>\n",
       "    </tr>\n",
       "    <tr>\n",
       "      <td>1</td>\n",
       "      <td>2020-01-22</td>\n",
       "      <td>Japan</td>\n",
       "      <td>36</td>\n",
       "      <td>2</td>\n",
       "      <td>0</td>\n",
       "      <td>0.0</td>\n",
       "      <td>0.000000</td>\n",
       "    </tr>\n",
       "    <tr>\n",
       "      <td>2</td>\n",
       "      <td>2020-01-22</td>\n",
       "      <td>Macau</td>\n",
       "      <td>21</td>\n",
       "      <td>1</td>\n",
       "      <td>0</td>\n",
       "      <td>0.0</td>\n",
       "      <td>0.000000</td>\n",
       "    </tr>\n",
       "    <tr>\n",
       "      <td>3</td>\n",
       "      <td>2020-01-22</td>\n",
       "      <td>Mainland China</td>\n",
       "      <td>535</td>\n",
       "      <td>547</td>\n",
       "      <td>17</td>\n",
       "      <td>28.0</td>\n",
       "      <td>3.107861</td>\n",
       "    </tr>\n",
       "    <tr>\n",
       "      <td>4</td>\n",
       "      <td>2020-01-22</td>\n",
       "      <td>South Korea</td>\n",
       "      <td>38</td>\n",
       "      <td>1</td>\n",
       "      <td>0</td>\n",
       "      <td>0.0</td>\n",
       "      <td>0.000000</td>\n",
       "    </tr>\n",
       "  </tbody>\n",
       "</table>\n",
       "</div>"
      ],
      "text/plain": [
       "  ObservationDate  Country/Region  SNo  Confirmed  Deaths  Recovered      Rate\n",
       "0      2020-01-22       Hong Kong   13          0       0        0.0  0.000000\n",
       "1      2020-01-22           Japan   36          2       0        0.0  0.000000\n",
       "2      2020-01-22           Macau   21          1       0        0.0  0.000000\n",
       "3      2020-01-22  Mainland China  535        547      17       28.0  3.107861\n",
       "4      2020-01-22     South Korea   38          1       0        0.0  0.000000"
      ]
     },
     "execution_count": 13,
     "metadata": {},
     "output_type": "execute_result"
    }
   ],
   "source": [
    "grouped_df.head()"
   ]
  },
  {
   "cell_type": "code",
   "execution_count": 14,
   "metadata": {},
   "outputs": [],
   "source": [
    "#country_list = grouped_df['Country/Region'].unique().tolist()\n",
    "#country_list.sort()"
   ]
  },
  {
   "cell_type": "code",
   "execution_count": 15,
   "metadata": {},
   "outputs": [],
   "source": [
    "country_list = ['Italy','Mainland China','UK','US','Turkey','Spain','Portugal','Iran']\n",
    "country_list.sort()"
   ]
  },
  {
   "cell_type": "code",
   "execution_count": 16,
   "metadata": {},
   "outputs": [],
   "source": [
    "time_series_text = dict()\n",
    "for country in country_list:\n",
    "    text = []\n",
    "    country_df = grouped_df[(grouped_df['Country/Region']==country) & (grouped_df['Deaths'] > 0)]\n",
    "    for i in range(0,country_df.shape[0]):\n",
    "        text.append('<br><b>' + 'Confirmed: </b>' + str(country_df['Confirmed'].iloc[i]) +\\\n",
    "            '<br><b>' + 'Deaths: </b> {}'.format(country_df['Deaths'].iloc[i]))\n",
    "    time_series_text[country] = text"
   ]
  },
  {
   "cell_type": "code",
   "execution_count": 25,
   "metadata": {},
   "outputs": [],
   "source": [
    "traces = []\n",
    "for country in country_list:\n",
    "    country_df = grouped_df[(grouped_df['Country/Region']==country) & (grouped_df['Deaths'] > 0)]\n",
    "    text= '<br><b>Confirmed:</b> {}'.format(country_df[\"Confirmed\"]) + '<b>Deaths:</b> {}'.format(country_df[\"Deaths\"])\n",
    "    traces.append(go.Scattergl(\n",
    "        x = country_df['ObservationDate'],\n",
    "        y = country_df['Rate'],\n",
    "        mode='lines',\n",
    "        hovertemplate ='<b>Date</b>: %{x}<br>'+'<b>Rate</b>: %{y}'+'%{text}',\n",
    "        text=time_series_text[country],\n",
    "        line=dict(width= 5 if country == 'Turkey' else 3),\n",
    "        name=str(country),\n",
    "        showlegend=True\n",
    "    ))"
   ]
  },
  {
   "cell_type": "code",
   "execution_count": 26,
   "metadata": {},
   "outputs": [],
   "source": [
    "layout = go.Layout(\n",
    "    height=600,\n",
    "    width= 1200,\n",
    "    legend={'traceorder':'normal'},\n",
    "    xaxis=dict(\n",
    "        title='Date',\n",
    "        type='date',\n",
    "        showline=True,\n",
    "        showgrid=True,\n",
    "        range=['2020-01-20','2020-04-16'],\n",
    "        showticklabels=True,\n",
    "        linewidth=2,\n",
    "        linecolor='black',\n",
    "        gridcolor='gray'\n",
    "    ),\n",
    "    yaxis=dict(\n",
    "        title='Mortality Rate (%)',\n",
    "        #type=\"log\",\n",
    "        showgrid=True,\n",
    "        zeroline=True,\n",
    "        showline=True,\n",
    "        linewidth=2,\n",
    "        linecolor='black',\n",
    "        gridcolor='gray'\n",
    "    ),\n",
    "    plot_bgcolor='white' \n",
    ")"
   ]
  },
  {
   "cell_type": "code",
   "execution_count": 27,
   "metadata": {},
   "outputs": [],
   "source": [
    "fig = go.Figure(data=traces, layout =layout)"
   ]
  },
  {
   "cell_type": "code",
   "execution_count": 28,
   "metadata": {},
   "outputs": [
    {
     "data": {
      "application/vnd.plotly.v1+json": {
       "config": {
        "linkText": "Export to plot.ly",
        "plotlyServerURL": "https://plot.ly",
        "showLink": false
       },
       "data": [
        {
         "hovertemplate": "<b>Date</b>: %{x}<br><b>Rate</b>: %{y}%{text}",
         "line": {
          "width": 3
         },
         "mode": "lines",
         "name": "Iran",
         "showlegend": true,
         "text": [
          "<br><b>Confirmed: </b>2<br><b>Deaths: </b> 2",
          "<br><b>Confirmed: </b>5<br><b>Deaths: </b> 2",
          "<br><b>Confirmed: </b>18<br><b>Deaths: </b> 4",
          "<br><b>Confirmed: </b>28<br><b>Deaths: </b> 5",
          "<br><b>Confirmed: </b>43<br><b>Deaths: </b> 8",
          "<br><b>Confirmed: </b>61<br><b>Deaths: </b> 12",
          "<br><b>Confirmed: </b>95<br><b>Deaths: </b> 16",
          "<br><b>Confirmed: </b>139<br><b>Deaths: </b> 19",
          "<br><b>Confirmed: </b>245<br><b>Deaths: </b> 26",
          "<br><b>Confirmed: </b>388<br><b>Deaths: </b> 34",
          "<br><b>Confirmed: </b>593<br><b>Deaths: </b> 43",
          "<br><b>Confirmed: </b>978<br><b>Deaths: </b> 54",
          "<br><b>Confirmed: </b>1501<br><b>Deaths: </b> 66",
          "<br><b>Confirmed: </b>2336<br><b>Deaths: </b> 77",
          "<br><b>Confirmed: </b>2922<br><b>Deaths: </b> 92",
          "<br><b>Confirmed: </b>3513<br><b>Deaths: </b> 107",
          "<br><b>Confirmed: </b>4747<br><b>Deaths: </b> 124",
          "<br><b>Confirmed: </b>5823<br><b>Deaths: </b> 145",
          "<br><b>Confirmed: </b>6566<br><b>Deaths: </b> 194",
          "<br><b>Confirmed: </b>7161<br><b>Deaths: </b> 237",
          "<br><b>Confirmed: </b>8042<br><b>Deaths: </b> 291",
          "<br><b>Confirmed: </b>9000<br><b>Deaths: </b> 354",
          "<br><b>Confirmed: </b>10075<br><b>Deaths: </b> 429",
          "<br><b>Confirmed: </b>11364<br><b>Deaths: </b> 514",
          "<br><b>Confirmed: </b>12729<br><b>Deaths: </b> 611",
          "<br><b>Confirmed: </b>13938<br><b>Deaths: </b> 724",
          "<br><b>Confirmed: </b>14991<br><b>Deaths: </b> 853",
          "<br><b>Confirmed: </b>16169<br><b>Deaths: </b> 988",
          "<br><b>Confirmed: </b>17361<br><b>Deaths: </b> 1135",
          "<br><b>Confirmed: </b>18407<br><b>Deaths: </b> 1284",
          "<br><b>Confirmed: </b>19644<br><b>Deaths: </b> 1433",
          "<br><b>Confirmed: </b>20610<br><b>Deaths: </b> 1556",
          "<br><b>Confirmed: </b>21638<br><b>Deaths: </b> 1685",
          "<br><b>Confirmed: </b>23049<br><b>Deaths: </b> 1812",
          "<br><b>Confirmed: </b>24811<br><b>Deaths: </b> 1934",
          "<br><b>Confirmed: </b>27017<br><b>Deaths: </b> 2077",
          "<br><b>Confirmed: </b>29406<br><b>Deaths: </b> 2234",
          "<br><b>Confirmed: </b>32332<br><b>Deaths: </b> 2378",
          "<br><b>Confirmed: </b>35408<br><b>Deaths: </b> 2517",
          "<br><b>Confirmed: </b>38309<br><b>Deaths: </b> 2640",
          "<br><b>Confirmed: </b>41495<br><b>Deaths: </b> 2757",
          "<br><b>Confirmed: </b>44605<br><b>Deaths: </b> 2898",
          "<br><b>Confirmed: </b>47593<br><b>Deaths: </b> 3036",
          "<br><b>Confirmed: </b>50468<br><b>Deaths: </b> 3160",
          "<br><b>Confirmed: </b>53183<br><b>Deaths: </b> 3294",
          "<br><b>Confirmed: </b>55743<br><b>Deaths: </b> 3452",
          "<br><b>Confirmed: </b>58226<br><b>Deaths: </b> 3603",
          "<br><b>Confirmed: </b>60500<br><b>Deaths: </b> 3739",
          "<br><b>Confirmed: </b>62589<br><b>Deaths: </b> 3872",
          "<br><b>Confirmed: </b>64586<br><b>Deaths: </b> 3993",
          "<br><b>Confirmed: </b>66220<br><b>Deaths: </b> 4110",
          "<br><b>Confirmed: </b>68192<br><b>Deaths: </b> 4232",
          "<br><b>Confirmed: </b>70029<br><b>Deaths: </b> 4357",
          "<br><b>Confirmed: </b>71686<br><b>Deaths: </b> 4474",
          "<br><b>Confirmed: </b>73303<br><b>Deaths: </b> 4585"
         ],
         "type": "scattergl",
         "visible": "legendonly",
         "x": [
          "2020-02-19T00:00:00",
          "2020-02-20T00:00:00",
          "2020-02-21T00:00:00",
          "2020-02-22T00:00:00",
          "2020-02-23T00:00:00",
          "2020-02-24T00:00:00",
          "2020-02-25T00:00:00",
          "2020-02-26T00:00:00",
          "2020-02-27T00:00:00",
          "2020-02-28T00:00:00",
          "2020-02-29T00:00:00",
          "2020-03-01T00:00:00",
          "2020-03-02T00:00:00",
          "2020-03-03T00:00:00",
          "2020-03-04T00:00:00",
          "2020-03-05T00:00:00",
          "2020-03-06T00:00:00",
          "2020-03-07T00:00:00",
          "2020-03-08T00:00:00",
          "2020-03-09T00:00:00",
          "2020-03-10T00:00:00",
          "2020-03-11T00:00:00",
          "2020-03-12T00:00:00",
          "2020-03-13T00:00:00",
          "2020-03-14T00:00:00",
          "2020-03-15T00:00:00",
          "2020-03-16T00:00:00",
          "2020-03-17T00:00:00",
          "2020-03-18T00:00:00",
          "2020-03-19T00:00:00",
          "2020-03-20T00:00:00",
          "2020-03-21T00:00:00",
          "2020-03-22T00:00:00",
          "2020-03-23T00:00:00",
          "2020-03-24T00:00:00",
          "2020-03-25T00:00:00",
          "2020-03-26T00:00:00",
          "2020-03-27T00:00:00",
          "2020-03-28T00:00:00",
          "2020-03-29T00:00:00",
          "2020-03-30T00:00:00",
          "2020-03-31T00:00:00",
          "2020-04-01T00:00:00",
          "2020-04-02T00:00:00",
          "2020-04-03T00:00:00",
          "2020-04-04T00:00:00",
          "2020-04-05T00:00:00",
          "2020-04-06T00:00:00",
          "2020-04-07T00:00:00",
          "2020-04-08T00:00:00",
          "2020-04-09T00:00:00",
          "2020-04-10T00:00:00",
          "2020-04-11T00:00:00",
          "2020-04-12T00:00:00",
          "2020-04-13T00:00:00"
         ],
         "y": [
          100,
          40,
          22.22222222222222,
          17.857142857142858,
          18.6046511627907,
          19.672131147540984,
          16.842105263157894,
          13.66906474820144,
          10.612244897959183,
          8.762886597938143,
          7.251264755480608,
          5.521472392638037,
          4.397068620919387,
          3.296232876712329,
          3.1485284052019162,
          3.0458297751209793,
          2.6121761112281443,
          2.4901253649321657,
          2.954614681693573,
          3.309593632174277,
          3.618502859985078,
          3.933333333333333,
          4.258064516129032,
          4.523055262231609,
          4.800062848613402,
          5.194432486726933,
          5.690080715095725,
          6.110458284371328,
          6.537641840907781,
          6.975607105992286,
          7.294848299735287,
          7.54973313925279,
          7.78722617617155,
          7.8615124300403485,
          7.79492966829229,
          7.6877521560498945,
          7.597089029449772,
          7.35494247185451,
          7.108563036601898,
          6.891331018820643,
          6.644173996867092,
          6.497029480999888,
          6.379089361880949,
          6.2613933581675525,
          6.193708515879134,
          6.1927058105950525,
          6.187957269948133,
          6.180165289256198,
          6.186390579814344,
          6.182454401882761,
          6.206584113560858,
          6.206006569685594,
          6.221708149480929,
          6.241107050191111,
          6.254859964803623
         ]
        },
        {
         "hovertemplate": "<b>Date</b>: %{x}<br><b>Rate</b>: %{y}%{text}",
         "line": {
          "width": 3
         },
         "mode": "lines",
         "name": "Italy",
         "showlegend": true,
         "text": [
          "<br><b>Confirmed: </b>20<br><b>Deaths: </b> 1",
          "<br><b>Confirmed: </b>62<br><b>Deaths: </b> 2",
          "<br><b>Confirmed: </b>155<br><b>Deaths: </b> 3",
          "<br><b>Confirmed: </b>229<br><b>Deaths: </b> 7",
          "<br><b>Confirmed: </b>322<br><b>Deaths: </b> 10",
          "<br><b>Confirmed: </b>453<br><b>Deaths: </b> 12",
          "<br><b>Confirmed: </b>655<br><b>Deaths: </b> 17",
          "<br><b>Confirmed: </b>888<br><b>Deaths: </b> 21",
          "<br><b>Confirmed: </b>1128<br><b>Deaths: </b> 29",
          "<br><b>Confirmed: </b>1694<br><b>Deaths: </b> 34",
          "<br><b>Confirmed: </b>2036<br><b>Deaths: </b> 52",
          "<br><b>Confirmed: </b>2502<br><b>Deaths: </b> 79",
          "<br><b>Confirmed: </b>3089<br><b>Deaths: </b> 107",
          "<br><b>Confirmed: </b>3858<br><b>Deaths: </b> 148",
          "<br><b>Confirmed: </b>4636<br><b>Deaths: </b> 197",
          "<br><b>Confirmed: </b>5883<br><b>Deaths: </b> 233",
          "<br><b>Confirmed: </b>7375<br><b>Deaths: </b> 366",
          "<br><b>Confirmed: </b>9172<br><b>Deaths: </b> 463",
          "<br><b>Confirmed: </b>10149<br><b>Deaths: </b> 631",
          "<br><b>Confirmed: </b>12462<br><b>Deaths: </b> 827",
          "<br><b>Confirmed: </b>12462<br><b>Deaths: </b> 827",
          "<br><b>Confirmed: </b>17660<br><b>Deaths: </b> 1266",
          "<br><b>Confirmed: </b>21157<br><b>Deaths: </b> 1441",
          "<br><b>Confirmed: </b>24747<br><b>Deaths: </b> 1809",
          "<br><b>Confirmed: </b>27980<br><b>Deaths: </b> 2158",
          "<br><b>Confirmed: </b>31506<br><b>Deaths: </b> 2503",
          "<br><b>Confirmed: </b>35713<br><b>Deaths: </b> 2978",
          "<br><b>Confirmed: </b>41035<br><b>Deaths: </b> 3405",
          "<br><b>Confirmed: </b>47021<br><b>Deaths: </b> 4032",
          "<br><b>Confirmed: </b>53578<br><b>Deaths: </b> 4825",
          "<br><b>Confirmed: </b>59138<br><b>Deaths: </b> 5476",
          "<br><b>Confirmed: </b>63927<br><b>Deaths: </b> 6077",
          "<br><b>Confirmed: </b>69176<br><b>Deaths: </b> 6820",
          "<br><b>Confirmed: </b>74386<br><b>Deaths: </b> 7503",
          "<br><b>Confirmed: </b>80589<br><b>Deaths: </b> 8215",
          "<br><b>Confirmed: </b>86498<br><b>Deaths: </b> 9134",
          "<br><b>Confirmed: </b>92472<br><b>Deaths: </b> 10023",
          "<br><b>Confirmed: </b>97689<br><b>Deaths: </b> 10779",
          "<br><b>Confirmed: </b>101739<br><b>Deaths: </b> 11591",
          "<br><b>Confirmed: </b>105792<br><b>Deaths: </b> 12428",
          "<br><b>Confirmed: </b>110574<br><b>Deaths: </b> 13155",
          "<br><b>Confirmed: </b>115242<br><b>Deaths: </b> 13915",
          "<br><b>Confirmed: </b>119827<br><b>Deaths: </b> 14681",
          "<br><b>Confirmed: </b>124632<br><b>Deaths: </b> 15362",
          "<br><b>Confirmed: </b>128948<br><b>Deaths: </b> 15887",
          "<br><b>Confirmed: </b>132547<br><b>Deaths: </b> 16523",
          "<br><b>Confirmed: </b>135586<br><b>Deaths: </b> 17127",
          "<br><b>Confirmed: </b>139422<br><b>Deaths: </b> 17669",
          "<br><b>Confirmed: </b>143626<br><b>Deaths: </b> 18279",
          "<br><b>Confirmed: </b>147577<br><b>Deaths: </b> 18849",
          "<br><b>Confirmed: </b>152271<br><b>Deaths: </b> 19468",
          "<br><b>Confirmed: </b>156363<br><b>Deaths: </b> 19899",
          "<br><b>Confirmed: </b>159516<br><b>Deaths: </b> 20465"
         ],
         "type": "scattergl",
         "x": [
          "2020-02-21T00:00:00",
          "2020-02-22T00:00:00",
          "2020-02-23T00:00:00",
          "2020-02-24T00:00:00",
          "2020-02-25T00:00:00",
          "2020-02-26T00:00:00",
          "2020-02-27T00:00:00",
          "2020-02-28T00:00:00",
          "2020-02-29T00:00:00",
          "2020-03-01T00:00:00",
          "2020-03-02T00:00:00",
          "2020-03-03T00:00:00",
          "2020-03-04T00:00:00",
          "2020-03-05T00:00:00",
          "2020-03-06T00:00:00",
          "2020-03-07T00:00:00",
          "2020-03-08T00:00:00",
          "2020-03-09T00:00:00",
          "2020-03-10T00:00:00",
          "2020-03-11T00:00:00",
          "2020-03-12T00:00:00",
          "2020-03-13T00:00:00",
          "2020-03-14T00:00:00",
          "2020-03-15T00:00:00",
          "2020-03-16T00:00:00",
          "2020-03-17T00:00:00",
          "2020-03-18T00:00:00",
          "2020-03-19T00:00:00",
          "2020-03-20T00:00:00",
          "2020-03-21T00:00:00",
          "2020-03-22T00:00:00",
          "2020-03-23T00:00:00",
          "2020-03-24T00:00:00",
          "2020-03-25T00:00:00",
          "2020-03-26T00:00:00",
          "2020-03-27T00:00:00",
          "2020-03-28T00:00:00",
          "2020-03-29T00:00:00",
          "2020-03-30T00:00:00",
          "2020-03-31T00:00:00",
          "2020-04-01T00:00:00",
          "2020-04-02T00:00:00",
          "2020-04-03T00:00:00",
          "2020-04-04T00:00:00",
          "2020-04-05T00:00:00",
          "2020-04-06T00:00:00",
          "2020-04-07T00:00:00",
          "2020-04-08T00:00:00",
          "2020-04-09T00:00:00",
          "2020-04-10T00:00:00",
          "2020-04-11T00:00:00",
          "2020-04-12T00:00:00",
          "2020-04-13T00:00:00"
         ],
         "y": [
          5,
          3.225806451612903,
          1.935483870967742,
          3.056768558951965,
          3.1055900621118013,
          2.6490066225165565,
          2.595419847328244,
          2.364864864864865,
          2.5709219858156027,
          2.0070838252656436,
          2.5540275049115913,
          3.1574740207833734,
          3.463904176108773,
          3.8361845515811304,
          4.249352890422778,
          3.960564337922828,
          4.96271186440678,
          5.04797208896642,
          6.21736131638585,
          6.636173968865351,
          6.636173968865351,
          7.168742921857304,
          6.810984544122513,
          7.309976966905079,
          7.71265189421015,
          7.9445185044118585,
          8.338700193206956,
          8.29779456561472,
          8.574892069500862,
          9.00556198439658,
          9.259697656329264,
          9.506155458569932,
          9.858910604834046,
          10.086575430860647,
          10.193698891908324,
          10.559781729057319,
          10.838956657150273,
          11.03399563922243,
          11.392877854116907,
          11.747580157289777,
          11.897010147050842,
          12.074590860970828,
          12.25182972118137,
          12.325887412542526,
          12.320470267084406,
          12.465766860057187,
          12.631835145221485,
          12.673035819311156,
          12.726804339047249,
          12.772315469212684,
          12.785100248898345,
          12.726156443659944,
          12.829434037964843
         ]
        },
        {
         "hovertemplate": "<b>Date</b>: %{x}<br><b>Rate</b>: %{y}%{text}",
         "line": {
          "width": 3
         },
         "mode": "lines",
         "name": "Mainland China",
         "showlegend": true,
         "text": [
          "<br><b>Confirmed: </b>547<br><b>Deaths: </b> 17",
          "<br><b>Confirmed: </b>639<br><b>Deaths: </b> 18",
          "<br><b>Confirmed: </b>916<br><b>Deaths: </b> 26",
          "<br><b>Confirmed: </b>1399<br><b>Deaths: </b> 42",
          "<br><b>Confirmed: </b>2062<br><b>Deaths: </b> 56",
          "<br><b>Confirmed: </b>2863<br><b>Deaths: </b> 82",
          "<br><b>Confirmed: </b>5494<br><b>Deaths: </b> 131",
          "<br><b>Confirmed: </b>6070<br><b>Deaths: </b> 133",
          "<br><b>Confirmed: </b>8124<br><b>Deaths: </b> 171",
          "<br><b>Confirmed: </b>9783<br><b>Deaths: </b> 213",
          "<br><b>Confirmed: </b>11871<br><b>Deaths: </b> 259",
          "<br><b>Confirmed: </b>16607<br><b>Deaths: </b> 361",
          "<br><b>Confirmed: </b>19693<br><b>Deaths: </b> 425",
          "<br><b>Confirmed: </b>23680<br><b>Deaths: </b> 490",
          "<br><b>Confirmed: </b>27409<br><b>Deaths: </b> 562",
          "<br><b>Confirmed: </b>30553<br><b>Deaths: </b> 632",
          "<br><b>Confirmed: </b>34075<br><b>Deaths: </b> 717",
          "<br><b>Confirmed: </b>36778<br><b>Deaths: </b> 804",
          "<br><b>Confirmed: </b>39790<br><b>Deaths: </b> 904",
          "<br><b>Confirmed: </b>42306<br><b>Deaths: </b> 1011",
          "<br><b>Confirmed: </b>44327<br><b>Deaths: </b> 1111",
          "<br><b>Confirmed: </b>44699<br><b>Deaths: </b> 1116",
          "<br><b>Confirmed: </b>59832<br><b>Deaths: </b> 1368",
          "<br><b>Confirmed: </b>66292<br><b>Deaths: </b> 1520",
          "<br><b>Confirmed: </b>68347<br><b>Deaths: </b> 1662",
          "<br><b>Confirmed: </b>70446<br><b>Deaths: </b> 1765",
          "<br><b>Confirmed: </b>72364<br><b>Deaths: </b> 1863",
          "<br><b>Confirmed: </b>74139<br><b>Deaths: </b> 2002",
          "<br><b>Confirmed: </b>74546<br><b>Deaths: </b> 2114",
          "<br><b>Confirmed: </b>74999<br><b>Deaths: </b> 2236",
          "<br><b>Confirmed: </b>75472<br><b>Deaths: </b> 2236",
          "<br><b>Confirmed: </b>76922<br><b>Deaths: </b> 2441",
          "<br><b>Confirmed: </b>76938<br><b>Deaths: </b> 2443",
          "<br><b>Confirmed: </b>77152<br><b>Deaths: </b> 2593",
          "<br><b>Confirmed: </b>77660<br><b>Deaths: </b> 2663",
          "<br><b>Confirmed: </b>78065<br><b>Deaths: </b> 2715",
          "<br><b>Confirmed: </b>78498<br><b>Deaths: </b> 2744",
          "<br><b>Confirmed: </b>78824<br><b>Deaths: </b> 2788",
          "<br><b>Confirmed: </b>79251<br><b>Deaths: </b> 2835",
          "<br><b>Confirmed: </b>79826<br><b>Deaths: </b> 2870",
          "<br><b>Confirmed: </b>80026<br><b>Deaths: </b> 2912",
          "<br><b>Confirmed: </b>80151<br><b>Deaths: </b> 2945",
          "<br><b>Confirmed: </b>80271<br><b>Deaths: </b> 2981",
          "<br><b>Confirmed: </b>80422<br><b>Deaths: </b> 3013",
          "<br><b>Confirmed: </b>80573<br><b>Deaths: </b> 3042",
          "<br><b>Confirmed: </b>80652<br><b>Deaths: </b> 3070",
          "<br><b>Confirmed: </b>80699<br><b>Deaths: </b> 3097",
          "<br><b>Confirmed: </b>80735<br><b>Deaths: </b> 3120",
          "<br><b>Confirmed: </b>80757<br><b>Deaths: </b> 3136",
          "<br><b>Confirmed: </b>80785<br><b>Deaths: </b> 3158",
          "<br><b>Confirmed: </b>80793<br><b>Deaths: </b> 3169",
          "<br><b>Confirmed: </b>80801<br><b>Deaths: </b> 3176",
          "<br><b>Confirmed: </b>80827<br><b>Deaths: </b> 3189",
          "<br><b>Confirmed: </b>80848<br><b>Deaths: </b> 3199",
          "<br><b>Confirmed: </b>80867<br><b>Deaths: </b> 3213",
          "<br><b>Confirmed: </b>80884<br><b>Deaths: </b> 3226",
          "<br><b>Confirmed: </b>80906<br><b>Deaths: </b> 3237",
          "<br><b>Confirmed: </b>80931<br><b>Deaths: </b> 3245",
          "<br><b>Confirmed: </b>80977<br><b>Deaths: </b> 3249",
          "<br><b>Confirmed: </b>81014<br><b>Deaths: </b> 3255",
          "<br><b>Confirmed: </b>81060<br><b>Deaths: </b> 3261",
          "<br><b>Confirmed: </b>81116<br><b>Deaths: </b> 3270",
          "<br><b>Confirmed: </b>81180<br><b>Deaths: </b> 3277",
          "<br><b>Confirmed: </b>81221<br><b>Deaths: </b> 3281",
          "<br><b>Confirmed: </b>81298<br><b>Deaths: </b> 3287",
          "<br><b>Confirmed: </b>81345<br><b>Deaths: </b> 3292",
          "<br><b>Confirmed: </b>81401<br><b>Deaths: </b> 3295",
          "<br><b>Confirmed: </b>81444<br><b>Deaths: </b> 3300",
          "<br><b>Confirmed: </b>81478<br><b>Deaths: </b> 3304",
          "<br><b>Confirmed: </b>81524<br><b>Deaths: </b> 3305",
          "<br><b>Confirmed: </b>81555<br><b>Deaths: </b> 3312",
          "<br><b>Confirmed: </b>81589<br><b>Deaths: </b> 3318",
          "<br><b>Confirmed: </b>81623<br><b>Deaths: </b> 3322",
          "<br><b>Confirmed: </b>81638<br><b>Deaths: </b> 3326",
          "<br><b>Confirmed: </b>81668<br><b>Deaths: </b> 3329",
          "<br><b>Confirmed: </b>81707<br><b>Deaths: </b> 3331",
          "<br><b>Confirmed: </b>81739<br><b>Deaths: </b> 3331",
          "<br><b>Confirmed: </b>81804<br><b>Deaths: </b> 3333",
          "<br><b>Confirmed: </b>81865<br><b>Deaths: </b> 3335",
          "<br><b>Confirmed: </b>81907<br><b>Deaths: </b> 3336",
          "<br><b>Confirmed: </b>81969<br><b>Deaths: </b> 3339",
          "<br><b>Confirmed: </b>82085<br><b>Deaths: </b> 3339",
          "<br><b>Confirmed: </b>82159<br><b>Deaths: </b> 3341"
         ],
         "type": "scattergl",
         "x": [
          "2020-01-22T00:00:00",
          "2020-01-23T00:00:00",
          "2020-01-24T00:00:00",
          "2020-01-25T00:00:00",
          "2020-01-26T00:00:00",
          "2020-01-27T00:00:00",
          "2020-01-28T00:00:00",
          "2020-01-29T00:00:00",
          "2020-01-30T00:00:00",
          "2020-01-31T00:00:00",
          "2020-02-01T00:00:00",
          "2020-02-02T00:00:00",
          "2020-02-03T00:00:00",
          "2020-02-04T00:00:00",
          "2020-02-05T00:00:00",
          "2020-02-06T00:00:00",
          "2020-02-07T00:00:00",
          "2020-02-08T00:00:00",
          "2020-02-09T00:00:00",
          "2020-02-10T00:00:00",
          "2020-02-11T00:00:00",
          "2020-02-12T00:00:00",
          "2020-02-13T00:00:00",
          "2020-02-14T00:00:00",
          "2020-02-15T00:00:00",
          "2020-02-16T00:00:00",
          "2020-02-17T00:00:00",
          "2020-02-18T00:00:00",
          "2020-02-19T00:00:00",
          "2020-02-20T00:00:00",
          "2020-02-21T00:00:00",
          "2020-02-22T00:00:00",
          "2020-02-23T00:00:00",
          "2020-02-24T00:00:00",
          "2020-02-25T00:00:00",
          "2020-02-26T00:00:00",
          "2020-02-27T00:00:00",
          "2020-02-28T00:00:00",
          "2020-02-29T00:00:00",
          "2020-03-01T00:00:00",
          "2020-03-02T00:00:00",
          "2020-03-03T00:00:00",
          "2020-03-04T00:00:00",
          "2020-03-05T00:00:00",
          "2020-03-06T00:00:00",
          "2020-03-07T00:00:00",
          "2020-03-08T00:00:00",
          "2020-03-09T00:00:00",
          "2020-03-10T00:00:00",
          "2020-03-11T00:00:00",
          "2020-03-12T00:00:00",
          "2020-03-13T00:00:00",
          "2020-03-14T00:00:00",
          "2020-03-15T00:00:00",
          "2020-03-16T00:00:00",
          "2020-03-17T00:00:00",
          "2020-03-18T00:00:00",
          "2020-03-19T00:00:00",
          "2020-03-20T00:00:00",
          "2020-03-21T00:00:00",
          "2020-03-22T00:00:00",
          "2020-03-23T00:00:00",
          "2020-03-24T00:00:00",
          "2020-03-25T00:00:00",
          "2020-03-26T00:00:00",
          "2020-03-27T00:00:00",
          "2020-03-28T00:00:00",
          "2020-03-29T00:00:00",
          "2020-03-30T00:00:00",
          "2020-03-31T00:00:00",
          "2020-04-01T00:00:00",
          "2020-04-02T00:00:00",
          "2020-04-03T00:00:00",
          "2020-04-04T00:00:00",
          "2020-04-05T00:00:00",
          "2020-04-06T00:00:00",
          "2020-04-07T00:00:00",
          "2020-04-08T00:00:00",
          "2020-04-09T00:00:00",
          "2020-04-10T00:00:00",
          "2020-04-11T00:00:00",
          "2020-04-12T00:00:00",
          "2020-04-13T00:00:00"
         ],
         "y": [
          3.1078610603290677,
          2.8169014084507045,
          2.8384279475982535,
          3.0021443888491777,
          2.7158098933074686,
          2.8641285365001745,
          2.3844193665817257,
          2.191103789126853,
          2.104874446085672,
          2.177246243483594,
          2.1817875494903545,
          2.17378214006142,
          2.15812725333875,
          2.0692567567567566,
          2.050421394432486,
          2.0685366412463586,
          2.1041819515774027,
          2.186089510033172,
          2.2719276200050267,
          2.38973195291448,
          2.506373090892684,
          2.4967001498914962,
          2.286401925391095,
          2.2928860194291922,
          2.4317087801951804,
          2.5054651790023565,
          2.5744845503288927,
          2.7003331579870244,
          2.8358329085396936,
          2.981373084974466,
          2.9626881492474033,
          3.1733444268219757,
          3.1752839949049885,
          3.360897967648279,
          3.429049703837239,
          3.4778710049317874,
          3.495630461922597,
          3.536993808992185,
          3.577241927546656,
          3.5953198206098262,
          3.6388173843500864,
          3.6743147309453406,
          3.713669943067858,
          3.7464872796001094,
          3.7754582800690057,
          3.8064772107325298,
          3.8377179395035874,
          3.864494952622778,
          3.883254702378741,
          3.9091415485548056,
          3.9223695122102162,
          3.9306444227175406,
          3.945463768295248,
          3.9568078369285575,
          3.9731905474420968,
          3.9884278720142428,
          4.000939361728426,
          4.0095884148225025,
          4.012250392086642,
          4.017824079788679,
          4.0229459659511475,
          4.031263869027072,
          4.036708548903671,
          4.039595671070289,
          4.043149892986298,
          4.046960476980761,
          4.047861819879363,
          4.051863857374392,
          4.055082353518742,
          4.054020901820323,
          4.0610630862608055,
          4.066724681023177,
          4.069931269372604,
          4.074083147553835,
          4.076259979428907,
          4.076762088927509,
          4.0751660773926766,
          4.074372891301159,
          4.07378000366457,
          4.0729119611266436,
          4.073491197891886,
          4.067734665285984,
          4.066505191153738
         ]
        },
        {
         "hovertemplate": "<b>Date</b>: %{x}<br><b>Rate</b>: %{y}%{text}",
         "line": {
          "width": 3
         },
         "mode": "lines",
         "name": "Portugal",
         "showlegend": true,
         "text": [
          "<br><b>Confirmed: </b>448<br><b>Deaths: </b> 1",
          "<br><b>Confirmed: </b>448<br><b>Deaths: </b> 2",
          "<br><b>Confirmed: </b>785<br><b>Deaths: </b> 3",
          "<br><b>Confirmed: </b>1020<br><b>Deaths: </b> 6",
          "<br><b>Confirmed: </b>1280<br><b>Deaths: </b> 12",
          "<br><b>Confirmed: </b>1600<br><b>Deaths: </b> 14",
          "<br><b>Confirmed: </b>2060<br><b>Deaths: </b> 23",
          "<br><b>Confirmed: </b>2362<br><b>Deaths: </b> 33",
          "<br><b>Confirmed: </b>2995<br><b>Deaths: </b> 43",
          "<br><b>Confirmed: </b>3544<br><b>Deaths: </b> 60",
          "<br><b>Confirmed: </b>4268<br><b>Deaths: </b> 76",
          "<br><b>Confirmed: </b>5170<br><b>Deaths: </b> 100",
          "<br><b>Confirmed: </b>5962<br><b>Deaths: </b> 119",
          "<br><b>Confirmed: </b>6408<br><b>Deaths: </b> 140",
          "<br><b>Confirmed: </b>7443<br><b>Deaths: </b> 160",
          "<br><b>Confirmed: </b>8251<br><b>Deaths: </b> 187",
          "<br><b>Confirmed: </b>9034<br><b>Deaths: </b> 209",
          "<br><b>Confirmed: </b>9886<br><b>Deaths: </b> 246",
          "<br><b>Confirmed: </b>10524<br><b>Deaths: </b> 266",
          "<br><b>Confirmed: </b>11278<br><b>Deaths: </b> 295",
          "<br><b>Confirmed: </b>11730<br><b>Deaths: </b> 311",
          "<br><b>Confirmed: </b>12442<br><b>Deaths: </b> 345",
          "<br><b>Confirmed: </b>13141<br><b>Deaths: </b> 380",
          "<br><b>Confirmed: </b>13956<br><b>Deaths: </b> 409",
          "<br><b>Confirmed: </b>15472<br><b>Deaths: </b> 435",
          "<br><b>Confirmed: </b>15987<br><b>Deaths: </b> 470",
          "<br><b>Confirmed: </b>16585<br><b>Deaths: </b> 504",
          "<br><b>Confirmed: </b>16934<br><b>Deaths: </b> 535"
         ],
         "type": "scattergl",
         "x": [
          "2020-03-17T00:00:00",
          "2020-03-18T00:00:00",
          "2020-03-19T00:00:00",
          "2020-03-20T00:00:00",
          "2020-03-21T00:00:00",
          "2020-03-22T00:00:00",
          "2020-03-23T00:00:00",
          "2020-03-24T00:00:00",
          "2020-03-25T00:00:00",
          "2020-03-26T00:00:00",
          "2020-03-27T00:00:00",
          "2020-03-28T00:00:00",
          "2020-03-29T00:00:00",
          "2020-03-30T00:00:00",
          "2020-03-31T00:00:00",
          "2020-04-01T00:00:00",
          "2020-04-02T00:00:00",
          "2020-04-03T00:00:00",
          "2020-04-04T00:00:00",
          "2020-04-05T00:00:00",
          "2020-04-06T00:00:00",
          "2020-04-07T00:00:00",
          "2020-04-08T00:00:00",
          "2020-04-09T00:00:00",
          "2020-04-10T00:00:00",
          "2020-04-11T00:00:00",
          "2020-04-12T00:00:00",
          "2020-04-13T00:00:00"
         ],
         "y": [
          0.2232142857142857,
          0.4464285714285714,
          0.3821656050955414,
          0.5882352941176471,
          0.9375,
          0.8750000000000001,
          1.116504854368932,
          1.397121083827265,
          1.4357262103505843,
          1.6930022573363432,
          1.7806935332708531,
          1.9342359767891684,
          1.9959745051995974,
          2.184769038701623,
          2.149670831653903,
          2.2663919524906073,
          2.3134823998228913,
          2.488367388225774,
          2.5275560623337134,
          2.615712005674765,
          2.6513213981244674,
          2.7728660986979583,
          2.891712959439921,
          2.930639151619375,
          2.81153050672182,
          2.939888659535873,
          3.038890563762436,
          3.1593244360458255
         ]
        },
        {
         "hovertemplate": "<b>Date</b>: %{x}<br><b>Rate</b>: %{y}%{text}",
         "line": {
          "width": 3
         },
         "mode": "lines",
         "name": "Spain",
         "showlegend": true,
         "text": [
          "<br><b>Confirmed: </b>165<br><b>Deaths: </b> 1",
          "<br><b>Confirmed: </b>222<br><b>Deaths: </b> 2",
          "<br><b>Confirmed: </b>259<br><b>Deaths: </b> 3",
          "<br><b>Confirmed: </b>400<br><b>Deaths: </b> 5",
          "<br><b>Confirmed: </b>500<br><b>Deaths: </b> 10",
          "<br><b>Confirmed: </b>673<br><b>Deaths: </b> 17",
          "<br><b>Confirmed: </b>1073<br><b>Deaths: </b> 28",
          "<br><b>Confirmed: </b>1695<br><b>Deaths: </b> 35",
          "<br><b>Confirmed: </b>2277<br><b>Deaths: </b> 54",
          "<br><b>Confirmed: </b>2277<br><b>Deaths: </b> 55",
          "<br><b>Confirmed: </b>5232<br><b>Deaths: </b> 133",
          "<br><b>Confirmed: </b>6391<br><b>Deaths: </b> 195",
          "<br><b>Confirmed: </b>7798<br><b>Deaths: </b> 289",
          "<br><b>Confirmed: </b>9942<br><b>Deaths: </b> 342",
          "<br><b>Confirmed: </b>11748<br><b>Deaths: </b> 533",
          "<br><b>Confirmed: </b>13910<br><b>Deaths: </b> 623",
          "<br><b>Confirmed: </b>17963<br><b>Deaths: </b> 830",
          "<br><b>Confirmed: </b>20410<br><b>Deaths: </b> 1043",
          "<br><b>Confirmed: </b>25374<br><b>Deaths: </b> 1375",
          "<br><b>Confirmed: </b>28603<br><b>Deaths: </b> 1756",
          "<br><b>Confirmed: </b>35136<br><b>Deaths: </b> 2311",
          "<br><b>Confirmed: </b>39885<br><b>Deaths: </b> 2808",
          "<br><b>Confirmed: </b>49515<br><b>Deaths: </b> 3647",
          "<br><b>Confirmed: </b>57786<br><b>Deaths: </b> 4365",
          "<br><b>Confirmed: </b>65719<br><b>Deaths: </b> 5138",
          "<br><b>Confirmed: </b>73235<br><b>Deaths: </b> 5982",
          "<br><b>Confirmed: </b>80110<br><b>Deaths: </b> 6803",
          "<br><b>Confirmed: </b>87956<br><b>Deaths: </b> 7716",
          "<br><b>Confirmed: </b>95923<br><b>Deaths: </b> 8464",
          "<br><b>Confirmed: </b>104118<br><b>Deaths: </b> 9387",
          "<br><b>Confirmed: </b>112065<br><b>Deaths: </b> 10348",
          "<br><b>Confirmed: </b>119199<br><b>Deaths: </b> 11198",
          "<br><b>Confirmed: </b>126168<br><b>Deaths: </b> 11947",
          "<br><b>Confirmed: </b>131646<br><b>Deaths: </b> 12641",
          "<br><b>Confirmed: </b>136675<br><b>Deaths: </b> 13341",
          "<br><b>Confirmed: </b>141942<br><b>Deaths: </b> 14045",
          "<br><b>Confirmed: </b>148220<br><b>Deaths: </b> 14792",
          "<br><b>Confirmed: </b>153222<br><b>Deaths: </b> 15447",
          "<br><b>Confirmed: </b>158273<br><b>Deaths: </b> 16081",
          "<br><b>Confirmed: </b>163027<br><b>Deaths: </b> 16606",
          "<br><b>Confirmed: </b>166831<br><b>Deaths: </b> 17209",
          "<br><b>Confirmed: </b>170099<br><b>Deaths: </b> 17756"
         ],
         "type": "scattergl",
         "x": [
          "2020-03-03T00:00:00",
          "2020-03-04T00:00:00",
          "2020-03-05T00:00:00",
          "2020-03-06T00:00:00",
          "2020-03-07T00:00:00",
          "2020-03-08T00:00:00",
          "2020-03-09T00:00:00",
          "2020-03-10T00:00:00",
          "2020-03-11T00:00:00",
          "2020-03-12T00:00:00",
          "2020-03-13T00:00:00",
          "2020-03-14T00:00:00",
          "2020-03-15T00:00:00",
          "2020-03-16T00:00:00",
          "2020-03-17T00:00:00",
          "2020-03-18T00:00:00",
          "2020-03-19T00:00:00",
          "2020-03-20T00:00:00",
          "2020-03-21T00:00:00",
          "2020-03-22T00:00:00",
          "2020-03-23T00:00:00",
          "2020-03-24T00:00:00",
          "2020-03-25T00:00:00",
          "2020-03-26T00:00:00",
          "2020-03-27T00:00:00",
          "2020-03-28T00:00:00",
          "2020-03-29T00:00:00",
          "2020-03-30T00:00:00",
          "2020-03-31T00:00:00",
          "2020-04-01T00:00:00",
          "2020-04-02T00:00:00",
          "2020-04-03T00:00:00",
          "2020-04-04T00:00:00",
          "2020-04-05T00:00:00",
          "2020-04-06T00:00:00",
          "2020-04-07T00:00:00",
          "2020-04-08T00:00:00",
          "2020-04-09T00:00:00",
          "2020-04-10T00:00:00",
          "2020-04-11T00:00:00",
          "2020-04-12T00:00:00",
          "2020-04-13T00:00:00"
         ],
         "y": [
          0.6060606060606061,
          0.9009009009009009,
          1.1583011583011582,
          1.25,
          2,
          2.526002971768202,
          2.60950605778192,
          2.0648967551622417,
          2.371541501976284,
          2.4154589371980677,
          2.5420489296636086,
          3.0511657017681113,
          3.7060784816619647,
          3.4399517199758605,
          4.536942458290773,
          4.478792235801582,
          4.620609029672104,
          5.110240078392945,
          5.418932765823284,
          6.1392161661364195,
          6.577299635701276,
          7.04024069198947,
          7.365444814702615,
          7.553732738033434,
          7.818134785982744,
          8.168225575203113,
          8.49207339907627,
          8.772568102232935,
          8.823744044702522,
          9.015732150060508,
          9.233926738946147,
          9.394374113876793,
          9.46912053769577,
          9.602266684897376,
          9.76111212730931,
          9.894886643840442,
          9.979759816489004,
          10.081450444453147,
          10.16029265888686,
          10.186042802725929,
          10.315229184024552,
          10.438626917265829
         ]
        },
        {
         "hovertemplate": "<b>Date</b>: %{x}<br><b>Rate</b>: %{y}%{text}",
         "line": {
          "width": 5
         },
         "mode": "lines",
         "name": "Turkey",
         "showlegend": true,
         "text": [
          "<br><b>Confirmed: </b>47<br><b>Deaths: </b> 1",
          "<br><b>Confirmed: </b>98<br><b>Deaths: </b> 1",
          "<br><b>Confirmed: </b>192<br><b>Deaths: </b> 3",
          "<br><b>Confirmed: </b>359<br><b>Deaths: </b> 4",
          "<br><b>Confirmed: </b>670<br><b>Deaths: </b> 9",
          "<br><b>Confirmed: </b>1236<br><b>Deaths: </b> 30",
          "<br><b>Confirmed: </b>1529<br><b>Deaths: </b> 37",
          "<br><b>Confirmed: </b>1872<br><b>Deaths: </b> 44",
          "<br><b>Confirmed: </b>2433<br><b>Deaths: </b> 59",
          "<br><b>Confirmed: </b>3629<br><b>Deaths: </b> 75",
          "<br><b>Confirmed: </b>5698<br><b>Deaths: </b> 92",
          "<br><b>Confirmed: </b>7402<br><b>Deaths: </b> 108",
          "<br><b>Confirmed: </b>9217<br><b>Deaths: </b> 131",
          "<br><b>Confirmed: </b>10827<br><b>Deaths: </b> 168",
          "<br><b>Confirmed: </b>13531<br><b>Deaths: </b> 214",
          "<br><b>Confirmed: </b>15679<br><b>Deaths: </b> 277",
          "<br><b>Confirmed: </b>18135<br><b>Deaths: </b> 356",
          "<br><b>Confirmed: </b>20921<br><b>Deaths: </b> 425",
          "<br><b>Confirmed: </b>23934<br><b>Deaths: </b> 501",
          "<br><b>Confirmed: </b>27069<br><b>Deaths: </b> 574",
          "<br><b>Confirmed: </b>30217<br><b>Deaths: </b> 649",
          "<br><b>Confirmed: </b>34109<br><b>Deaths: </b> 725",
          "<br><b>Confirmed: </b>38226<br><b>Deaths: </b> 812",
          "<br><b>Confirmed: </b>42282<br><b>Deaths: </b> 908",
          "<br><b>Confirmed: </b>47029<br><b>Deaths: </b> 1006",
          "<br><b>Confirmed: </b>52167<br><b>Deaths: </b> 1101",
          "<br><b>Confirmed: </b>56956<br><b>Deaths: </b> 1198",
          "<br><b>Confirmed: </b>61049<br><b>Deaths: </b> 1296"
         ],
         "type": "scattergl",
         "x": [
          "2020-03-17T00:00:00",
          "2020-03-18T00:00:00",
          "2020-03-19T00:00:00",
          "2020-03-20T00:00:00",
          "2020-03-21T00:00:00",
          "2020-03-22T00:00:00",
          "2020-03-23T00:00:00",
          "2020-03-24T00:00:00",
          "2020-03-25T00:00:00",
          "2020-03-26T00:00:00",
          "2020-03-27T00:00:00",
          "2020-03-28T00:00:00",
          "2020-03-29T00:00:00",
          "2020-03-30T00:00:00",
          "2020-03-31T00:00:00",
          "2020-04-01T00:00:00",
          "2020-04-02T00:00:00",
          "2020-04-03T00:00:00",
          "2020-04-04T00:00:00",
          "2020-04-05T00:00:00",
          "2020-04-06T00:00:00",
          "2020-04-07T00:00:00",
          "2020-04-08T00:00:00",
          "2020-04-09T00:00:00",
          "2020-04-10T00:00:00",
          "2020-04-11T00:00:00",
          "2020-04-12T00:00:00",
          "2020-04-13T00:00:00"
         ],
         "y": [
          2.127659574468085,
          1.0204081632653061,
          1.5625,
          1.1142061281337048,
          1.3432835820895521,
          2.4271844660194173,
          2.419882275997384,
          2.3504273504273505,
          2.424989724619811,
          2.066685037200331,
          1.6146016146016147,
          1.4590651175358011,
          1.421286752739503,
          1.5516763646439458,
          1.5815534698100657,
          1.7666943044837045,
          1.9630548662806728,
          2.0314516514506957,
          2.0932564552519426,
          2.1205068528575124,
          2.1477975973789585,
          2.1255387141223725,
          2.124208653795846,
          2.147485927817984,
          2.1391056582108914,
          2.110529645177986,
          2.1033780462111107,
          2.122884895739488
         ]
        },
        {
         "hovertemplate": "<b>Date</b>: %{x}<br><b>Rate</b>: %{y}%{text}",
         "line": {
          "width": 3
         },
         "mode": "lines",
         "name": "UK",
         "showlegend": true,
         "text": [
          "<br><b>Confirmed: </b>115<br><b>Deaths: </b> 1",
          "<br><b>Confirmed: </b>163<br><b>Deaths: </b> 2",
          "<br><b>Confirmed: </b>206<br><b>Deaths: </b> 2",
          "<br><b>Confirmed: </b>273<br><b>Deaths: </b> 3",
          "<br><b>Confirmed: </b>321<br><b>Deaths: </b> 4",
          "<br><b>Confirmed: </b>382<br><b>Deaths: </b> 6",
          "<br><b>Confirmed: </b>459<br><b>Deaths: </b> 8",
          "<br><b>Confirmed: </b>459<br><b>Deaths: </b> 8",
          "<br><b>Confirmed: </b>801<br><b>Deaths: </b> 8",
          "<br><b>Confirmed: </b>1143<br><b>Deaths: </b> 21",
          "<br><b>Confirmed: </b>1144<br><b>Deaths: </b> 21",
          "<br><b>Confirmed: </b>1551<br><b>Deaths: </b> 56",
          "<br><b>Confirmed: </b>1960<br><b>Deaths: </b> 56",
          "<br><b>Confirmed: </b>2642<br><b>Deaths: </b> 72",
          "<br><b>Confirmed: </b>2716<br><b>Deaths: </b> 138",
          "<br><b>Confirmed: </b>4014<br><b>Deaths: </b> 178",
          "<br><b>Confirmed: </b>5067<br><b>Deaths: </b> 234",
          "<br><b>Confirmed: </b>5741<br><b>Deaths: </b> 282",
          "<br><b>Confirmed: </b>6726<br><b>Deaths: </b> 336",
          "<br><b>Confirmed: </b>8164<br><b>Deaths: </b> 423",
          "<br><b>Confirmed: </b>9640<br><b>Deaths: </b> 466",
          "<br><b>Confirmed: </b>11812<br><b>Deaths: </b> 580",
          "<br><b>Confirmed: </b>14745<br><b>Deaths: </b> 761",
          "<br><b>Confirmed: </b>17312<br><b>Deaths: </b> 1021",
          "<br><b>Confirmed: </b>19780<br><b>Deaths: </b> 1231",
          "<br><b>Confirmed: </b>22453<br><b>Deaths: </b> 1411",
          "<br><b>Confirmed: </b>25481<br><b>Deaths: </b> 1793",
          "<br><b>Confirmed: </b>29865<br><b>Deaths: </b> 2357",
          "<br><b>Confirmed: </b>34173<br><b>Deaths: </b> 2926",
          "<br><b>Confirmed: </b>38689<br><b>Deaths: </b> 3611",
          "<br><b>Confirmed: </b>42477<br><b>Deaths: </b> 4320",
          "<br><b>Confirmed: </b>48436<br><b>Deaths: </b> 4943",
          "<br><b>Confirmed: </b>52279<br><b>Deaths: </b> 5385",
          "<br><b>Confirmed: </b>55949<br><b>Deaths: </b> 6171",
          "<br><b>Confirmed: </b>61474<br><b>Deaths: </b> 7111",
          "<br><b>Confirmed: </b>65872<br><b>Deaths: </b> 7993",
          "<br><b>Confirmed: </b>74605<br><b>Deaths: </b> 8974",
          "<br><b>Confirmed: </b>79874<br><b>Deaths: </b> 9892",
          "<br><b>Confirmed: </b>85206<br><b>Deaths: </b> 10629",
          "<br><b>Confirmed: </b>89570<br><b>Deaths: </b> 11347"
         ],
         "type": "scattergl",
         "x": [
          "2020-03-05T00:00:00",
          "2020-03-06T00:00:00",
          "2020-03-07T00:00:00",
          "2020-03-08T00:00:00",
          "2020-03-09T00:00:00",
          "2020-03-10T00:00:00",
          "2020-03-11T00:00:00",
          "2020-03-12T00:00:00",
          "2020-03-13T00:00:00",
          "2020-03-14T00:00:00",
          "2020-03-15T00:00:00",
          "2020-03-16T00:00:00",
          "2020-03-17T00:00:00",
          "2020-03-18T00:00:00",
          "2020-03-19T00:00:00",
          "2020-03-20T00:00:00",
          "2020-03-21T00:00:00",
          "2020-03-22T00:00:00",
          "2020-03-23T00:00:00",
          "2020-03-24T00:00:00",
          "2020-03-25T00:00:00",
          "2020-03-26T00:00:00",
          "2020-03-27T00:00:00",
          "2020-03-28T00:00:00",
          "2020-03-29T00:00:00",
          "2020-03-30T00:00:00",
          "2020-03-31T00:00:00",
          "2020-04-01T00:00:00",
          "2020-04-02T00:00:00",
          "2020-04-03T00:00:00",
          "2020-04-04T00:00:00",
          "2020-04-05T00:00:00",
          "2020-04-06T00:00:00",
          "2020-04-07T00:00:00",
          "2020-04-08T00:00:00",
          "2020-04-09T00:00:00",
          "2020-04-10T00:00:00",
          "2020-04-11T00:00:00",
          "2020-04-12T00:00:00",
          "2020-04-13T00:00:00"
         ],
         "y": [
          0.8695652173913043,
          1.2269938650306749,
          0.9708737864077669,
          1.098901098901099,
          1.2461059190031152,
          1.5706806282722512,
          1.7429193899782136,
          1.7429193899782136,
          0.9987515605493134,
          1.837270341207349,
          1.8356643356643356,
          3.610573823339781,
          2.857142857142857,
          2.7252081756245268,
          5.08100147275405,
          4.434479322371699,
          4.618117229129663,
          4.912036230621843,
          4.9955396966993755,
          5.181283684468398,
          4.834024896265561,
          4.9102607517778525,
          5.161071549677857,
          5.89764325323475,
          6.223458038422649,
          6.284238186433884,
          7.036615517444371,
          7.892181483341703,
          8.562315278143563,
          9.333402259040037,
          10.170209760576313,
          10.20521925840284,
          10.300503070066375,
          11.029687751344975,
          11.567491947815336,
          12.134138936118532,
          12.028684404530528,
          12.384505596314195,
          12.474473628617703,
          12.66830411968293
         ]
        },
        {
         "hovertemplate": "<b>Date</b>: %{x}<br><b>Rate</b>: %{y}%{text}",
         "line": {
          "width": 3
         },
         "mode": "lines",
         "name": "US",
         "showlegend": true,
         "text": [
          "<br><b>Confirmed: </b>70<br><b>Deaths: </b> 1",
          "<br><b>Confirmed: </b>76<br><b>Deaths: </b> 1",
          "<br><b>Confirmed: </b>101<br><b>Deaths: </b> 6",
          "<br><b>Confirmed: </b>122<br><b>Deaths: </b> 7",
          "<br><b>Confirmed: </b>153<br><b>Deaths: </b> 11",
          "<br><b>Confirmed: </b>221<br><b>Deaths: </b> 12",
          "<br><b>Confirmed: </b>278<br><b>Deaths: </b> 14",
          "<br><b>Confirmed: </b>417<br><b>Deaths: </b> 17",
          "<br><b>Confirmed: </b>537<br><b>Deaths: </b> 21",
          "<br><b>Confirmed: </b>605<br><b>Deaths: </b> 22",
          "<br><b>Confirmed: </b>959<br><b>Deaths: </b> 28",
          "<br><b>Confirmed: </b>1281<br><b>Deaths: </b> 36",
          "<br><b>Confirmed: </b>1663<br><b>Deaths: </b> 40",
          "<br><b>Confirmed: </b>2179<br><b>Deaths: </b> 47",
          "<br><b>Confirmed: </b>2726<br><b>Deaths: </b> 54",
          "<br><b>Confirmed: </b>3499<br><b>Deaths: </b> 63",
          "<br><b>Confirmed: </b>4632<br><b>Deaths: </b> 85",
          "<br><b>Confirmed: </b>6421<br><b>Deaths: </b> 108",
          "<br><b>Confirmed: </b>7786<br><b>Deaths: </b> 118",
          "<br><b>Confirmed: </b>13680<br><b>Deaths: </b> 200",
          "<br><b>Confirmed: </b>19101<br><b>Deaths: </b> 244",
          "<br><b>Confirmed: </b>25514<br><b>Deaths: </b> 307",
          "<br><b>Confirmed: </b>33848<br><b>Deaths: </b> 427",
          "<br><b>Confirmed: </b>43667<br><b>Deaths: </b> 552",
          "<br><b>Confirmed: </b>53740<br><b>Deaths: </b> 706",
          "<br><b>Confirmed: </b>65778<br><b>Deaths: </b> 942",
          "<br><b>Confirmed: </b>83836<br><b>Deaths: </b> 1209",
          "<br><b>Confirmed: </b>101657<br><b>Deaths: </b> 1581",
          "<br><b>Confirmed: </b>121465<br><b>Deaths: </b> 2026",
          "<br><b>Confirmed: </b>140909<br><b>Deaths: </b> 2467",
          "<br><b>Confirmed: </b>161831<br><b>Deaths: </b> 2978",
          "<br><b>Confirmed: </b>188172<br><b>Deaths: </b> 3873",
          "<br><b>Confirmed: </b>213372<br><b>Deaths: </b> 4757",
          "<br><b>Confirmed: </b>243599<br><b>Deaths: </b> 5926",
          "<br><b>Confirmed: </b>275586<br><b>Deaths: </b> 7087",
          "<br><b>Confirmed: </b>308853<br><b>Deaths: </b> 8407",
          "<br><b>Confirmed: </b>337072<br><b>Deaths: </b> 9619",
          "<br><b>Confirmed: </b>366667<br><b>Deaths: </b> 10783",
          "<br><b>Confirmed: </b>396223<br><b>Deaths: </b> 12722",
          "<br><b>Confirmed: </b>429052<br><b>Deaths: </b> 14695",
          "<br><b>Confirmed: </b>461437<br><b>Deaths: </b> 16478",
          "<br><b>Confirmed: </b>496535<br><b>Deaths: </b> 18586",
          "<br><b>Confirmed: </b>526396<br><b>Deaths: </b> 20463",
          "<br><b>Confirmed: </b>555313<br><b>Deaths: </b> 22020",
          "<br><b>Confirmed: </b>580619<br><b>Deaths: </b> 23529"
         ],
         "type": "scattergl",
         "x": [
          "2020-02-29T00:00:00",
          "2020-03-01T00:00:00",
          "2020-03-02T00:00:00",
          "2020-03-03T00:00:00",
          "2020-03-04T00:00:00",
          "2020-03-05T00:00:00",
          "2020-03-06T00:00:00",
          "2020-03-07T00:00:00",
          "2020-03-08T00:00:00",
          "2020-03-09T00:00:00",
          "2020-03-10T00:00:00",
          "2020-03-11T00:00:00",
          "2020-03-12T00:00:00",
          "2020-03-13T00:00:00",
          "2020-03-14T00:00:00",
          "2020-03-15T00:00:00",
          "2020-03-16T00:00:00",
          "2020-03-17T00:00:00",
          "2020-03-18T00:00:00",
          "2020-03-19T00:00:00",
          "2020-03-20T00:00:00",
          "2020-03-21T00:00:00",
          "2020-03-22T00:00:00",
          "2020-03-23T00:00:00",
          "2020-03-24T00:00:00",
          "2020-03-25T00:00:00",
          "2020-03-26T00:00:00",
          "2020-03-27T00:00:00",
          "2020-03-28T00:00:00",
          "2020-03-29T00:00:00",
          "2020-03-30T00:00:00",
          "2020-03-31T00:00:00",
          "2020-04-01T00:00:00",
          "2020-04-02T00:00:00",
          "2020-04-03T00:00:00",
          "2020-04-04T00:00:00",
          "2020-04-05T00:00:00",
          "2020-04-06T00:00:00",
          "2020-04-07T00:00:00",
          "2020-04-08T00:00:00",
          "2020-04-09T00:00:00",
          "2020-04-10T00:00:00",
          "2020-04-11T00:00:00",
          "2020-04-12T00:00:00",
          "2020-04-13T00:00:00"
         ],
         "y": [
          1.4285714285714286,
          1.3157894736842104,
          5.9405940594059405,
          5.737704918032787,
          7.18954248366013,
          5.429864253393665,
          5.0359712230215825,
          4.07673860911271,
          3.910614525139665,
          3.6363636363636362,
          2.9197080291970803,
          2.810304449648712,
          2.4052916416115453,
          2.1569527306103717,
          1.9809244314013204,
          1.8005144326950557,
          1.8350604490500866,
          1.6819809998442612,
          1.5155407141022348,
          1.461988304093567,
          1.2774200303649024,
          1.2032609547699302,
          1.2615220987946112,
          1.2641124876909338,
          1.313732787495348,
          1.4320897564535255,
          1.4421012452884203,
          1.5552298415259156,
          1.6679701971761411,
          1.7507753230808536,
          1.8401913106883105,
          2.0582233275939035,
          2.229439664060889,
          2.4326865052812203,
          2.571611039748028,
          2.7220069094358803,
          2.8536929795414627,
          2.9408155083495378,
          3.210818150385011,
          3.424992774768559,
          3.571018362203291,
          3.7431399599222615,
          3.8873775636592987,
          3.9653312636297002,
          4.052399249766197
         ]
        }
       ],
       "layout": {
        "height": 600,
        "legend": {
         "traceorder": "normal"
        },
        "plot_bgcolor": "white",
        "template": {
         "data": {
          "bar": [
           {
            "error_x": {
             "color": "#2a3f5f"
            },
            "error_y": {
             "color": "#2a3f5f"
            },
            "marker": {
             "line": {
              "color": "#E5ECF6",
              "width": 0.5
             }
            },
            "type": "bar"
           }
          ],
          "barpolar": [
           {
            "marker": {
             "line": {
              "color": "#E5ECF6",
              "width": 0.5
             }
            },
            "type": "barpolar"
           }
          ],
          "carpet": [
           {
            "aaxis": {
             "endlinecolor": "#2a3f5f",
             "gridcolor": "white",
             "linecolor": "white",
             "minorgridcolor": "white",
             "startlinecolor": "#2a3f5f"
            },
            "baxis": {
             "endlinecolor": "#2a3f5f",
             "gridcolor": "white",
             "linecolor": "white",
             "minorgridcolor": "white",
             "startlinecolor": "#2a3f5f"
            },
            "type": "carpet"
           }
          ],
          "choropleth": [
           {
            "colorbar": {
             "outlinewidth": 0,
             "ticks": ""
            },
            "type": "choropleth"
           }
          ],
          "contour": [
           {
            "colorbar": {
             "outlinewidth": 0,
             "ticks": ""
            },
            "colorscale": [
             [
              0,
              "#0d0887"
             ],
             [
              0.1111111111111111,
              "#46039f"
             ],
             [
              0.2222222222222222,
              "#7201a8"
             ],
             [
              0.3333333333333333,
              "#9c179e"
             ],
             [
              0.4444444444444444,
              "#bd3786"
             ],
             [
              0.5555555555555556,
              "#d8576b"
             ],
             [
              0.6666666666666666,
              "#ed7953"
             ],
             [
              0.7777777777777778,
              "#fb9f3a"
             ],
             [
              0.8888888888888888,
              "#fdca26"
             ],
             [
              1,
              "#f0f921"
             ]
            ],
            "type": "contour"
           }
          ],
          "contourcarpet": [
           {
            "colorbar": {
             "outlinewidth": 0,
             "ticks": ""
            },
            "type": "contourcarpet"
           }
          ],
          "heatmap": [
           {
            "colorbar": {
             "outlinewidth": 0,
             "ticks": ""
            },
            "colorscale": [
             [
              0,
              "#0d0887"
             ],
             [
              0.1111111111111111,
              "#46039f"
             ],
             [
              0.2222222222222222,
              "#7201a8"
             ],
             [
              0.3333333333333333,
              "#9c179e"
             ],
             [
              0.4444444444444444,
              "#bd3786"
             ],
             [
              0.5555555555555556,
              "#d8576b"
             ],
             [
              0.6666666666666666,
              "#ed7953"
             ],
             [
              0.7777777777777778,
              "#fb9f3a"
             ],
             [
              0.8888888888888888,
              "#fdca26"
             ],
             [
              1,
              "#f0f921"
             ]
            ],
            "type": "heatmap"
           }
          ],
          "heatmapgl": [
           {
            "colorbar": {
             "outlinewidth": 0,
             "ticks": ""
            },
            "colorscale": [
             [
              0,
              "#0d0887"
             ],
             [
              0.1111111111111111,
              "#46039f"
             ],
             [
              0.2222222222222222,
              "#7201a8"
             ],
             [
              0.3333333333333333,
              "#9c179e"
             ],
             [
              0.4444444444444444,
              "#bd3786"
             ],
             [
              0.5555555555555556,
              "#d8576b"
             ],
             [
              0.6666666666666666,
              "#ed7953"
             ],
             [
              0.7777777777777778,
              "#fb9f3a"
             ],
             [
              0.8888888888888888,
              "#fdca26"
             ],
             [
              1,
              "#f0f921"
             ]
            ],
            "type": "heatmapgl"
           }
          ],
          "histogram": [
           {
            "marker": {
             "colorbar": {
              "outlinewidth": 0,
              "ticks": ""
             }
            },
            "type": "histogram"
           }
          ],
          "histogram2d": [
           {
            "colorbar": {
             "outlinewidth": 0,
             "ticks": ""
            },
            "colorscale": [
             [
              0,
              "#0d0887"
             ],
             [
              0.1111111111111111,
              "#46039f"
             ],
             [
              0.2222222222222222,
              "#7201a8"
             ],
             [
              0.3333333333333333,
              "#9c179e"
             ],
             [
              0.4444444444444444,
              "#bd3786"
             ],
             [
              0.5555555555555556,
              "#d8576b"
             ],
             [
              0.6666666666666666,
              "#ed7953"
             ],
             [
              0.7777777777777778,
              "#fb9f3a"
             ],
             [
              0.8888888888888888,
              "#fdca26"
             ],
             [
              1,
              "#f0f921"
             ]
            ],
            "type": "histogram2d"
           }
          ],
          "histogram2dcontour": [
           {
            "colorbar": {
             "outlinewidth": 0,
             "ticks": ""
            },
            "colorscale": [
             [
              0,
              "#0d0887"
             ],
             [
              0.1111111111111111,
              "#46039f"
             ],
             [
              0.2222222222222222,
              "#7201a8"
             ],
             [
              0.3333333333333333,
              "#9c179e"
             ],
             [
              0.4444444444444444,
              "#bd3786"
             ],
             [
              0.5555555555555556,
              "#d8576b"
             ],
             [
              0.6666666666666666,
              "#ed7953"
             ],
             [
              0.7777777777777778,
              "#fb9f3a"
             ],
             [
              0.8888888888888888,
              "#fdca26"
             ],
             [
              1,
              "#f0f921"
             ]
            ],
            "type": "histogram2dcontour"
           }
          ],
          "mesh3d": [
           {
            "colorbar": {
             "outlinewidth": 0,
             "ticks": ""
            },
            "type": "mesh3d"
           }
          ],
          "parcoords": [
           {
            "line": {
             "colorbar": {
              "outlinewidth": 0,
              "ticks": ""
             }
            },
            "type": "parcoords"
           }
          ],
          "pie": [
           {
            "automargin": true,
            "type": "pie"
           }
          ],
          "scatter": [
           {
            "marker": {
             "colorbar": {
              "outlinewidth": 0,
              "ticks": ""
             }
            },
            "type": "scatter"
           }
          ],
          "scatter3d": [
           {
            "line": {
             "colorbar": {
              "outlinewidth": 0,
              "ticks": ""
             }
            },
            "marker": {
             "colorbar": {
              "outlinewidth": 0,
              "ticks": ""
             }
            },
            "type": "scatter3d"
           }
          ],
          "scattercarpet": [
           {
            "marker": {
             "colorbar": {
              "outlinewidth": 0,
              "ticks": ""
             }
            },
            "type": "scattercarpet"
           }
          ],
          "scattergeo": [
           {
            "marker": {
             "colorbar": {
              "outlinewidth": 0,
              "ticks": ""
             }
            },
            "type": "scattergeo"
           }
          ],
          "scattergl": [
           {
            "marker": {
             "colorbar": {
              "outlinewidth": 0,
              "ticks": ""
             }
            },
            "type": "scattergl"
           }
          ],
          "scattermapbox": [
           {
            "marker": {
             "colorbar": {
              "outlinewidth": 0,
              "ticks": ""
             }
            },
            "type": "scattermapbox"
           }
          ],
          "scatterpolar": [
           {
            "marker": {
             "colorbar": {
              "outlinewidth": 0,
              "ticks": ""
             }
            },
            "type": "scatterpolar"
           }
          ],
          "scatterpolargl": [
           {
            "marker": {
             "colorbar": {
              "outlinewidth": 0,
              "ticks": ""
             }
            },
            "type": "scatterpolargl"
           }
          ],
          "scatterternary": [
           {
            "marker": {
             "colorbar": {
              "outlinewidth": 0,
              "ticks": ""
             }
            },
            "type": "scatterternary"
           }
          ],
          "surface": [
           {
            "colorbar": {
             "outlinewidth": 0,
             "ticks": ""
            },
            "colorscale": [
             [
              0,
              "#0d0887"
             ],
             [
              0.1111111111111111,
              "#46039f"
             ],
             [
              0.2222222222222222,
              "#7201a8"
             ],
             [
              0.3333333333333333,
              "#9c179e"
             ],
             [
              0.4444444444444444,
              "#bd3786"
             ],
             [
              0.5555555555555556,
              "#d8576b"
             ],
             [
              0.6666666666666666,
              "#ed7953"
             ],
             [
              0.7777777777777778,
              "#fb9f3a"
             ],
             [
              0.8888888888888888,
              "#fdca26"
             ],
             [
              1,
              "#f0f921"
             ]
            ],
            "type": "surface"
           }
          ],
          "table": [
           {
            "cells": {
             "fill": {
              "color": "#EBF0F8"
             },
             "line": {
              "color": "white"
             }
            },
            "header": {
             "fill": {
              "color": "#C8D4E3"
             },
             "line": {
              "color": "white"
             }
            },
            "type": "table"
           }
          ]
         },
         "layout": {
          "annotationdefaults": {
           "arrowcolor": "#2a3f5f",
           "arrowhead": 0,
           "arrowwidth": 1
          },
          "coloraxis": {
           "colorbar": {
            "outlinewidth": 0,
            "ticks": ""
           }
          },
          "colorscale": {
           "diverging": [
            [
             0,
             "#8e0152"
            ],
            [
             0.1,
             "#c51b7d"
            ],
            [
             0.2,
             "#de77ae"
            ],
            [
             0.3,
             "#f1b6da"
            ],
            [
             0.4,
             "#fde0ef"
            ],
            [
             0.5,
             "#f7f7f7"
            ],
            [
             0.6,
             "#e6f5d0"
            ],
            [
             0.7,
             "#b8e186"
            ],
            [
             0.8,
             "#7fbc41"
            ],
            [
             0.9,
             "#4d9221"
            ],
            [
             1,
             "#276419"
            ]
           ],
           "sequential": [
            [
             0,
             "#0d0887"
            ],
            [
             0.1111111111111111,
             "#46039f"
            ],
            [
             0.2222222222222222,
             "#7201a8"
            ],
            [
             0.3333333333333333,
             "#9c179e"
            ],
            [
             0.4444444444444444,
             "#bd3786"
            ],
            [
             0.5555555555555556,
             "#d8576b"
            ],
            [
             0.6666666666666666,
             "#ed7953"
            ],
            [
             0.7777777777777778,
             "#fb9f3a"
            ],
            [
             0.8888888888888888,
             "#fdca26"
            ],
            [
             1,
             "#f0f921"
            ]
           ],
           "sequentialminus": [
            [
             0,
             "#0d0887"
            ],
            [
             0.1111111111111111,
             "#46039f"
            ],
            [
             0.2222222222222222,
             "#7201a8"
            ],
            [
             0.3333333333333333,
             "#9c179e"
            ],
            [
             0.4444444444444444,
             "#bd3786"
            ],
            [
             0.5555555555555556,
             "#d8576b"
            ],
            [
             0.6666666666666666,
             "#ed7953"
            ],
            [
             0.7777777777777778,
             "#fb9f3a"
            ],
            [
             0.8888888888888888,
             "#fdca26"
            ],
            [
             1,
             "#f0f921"
            ]
           ]
          },
          "colorway": [
           "#636efa",
           "#EF553B",
           "#00cc96",
           "#ab63fa",
           "#FFA15A",
           "#19d3f3",
           "#FF6692",
           "#B6E880",
           "#FF97FF",
           "#FECB52"
          ],
          "font": {
           "color": "#2a3f5f"
          },
          "geo": {
           "bgcolor": "white",
           "lakecolor": "white",
           "landcolor": "#E5ECF6",
           "showlakes": true,
           "showland": true,
           "subunitcolor": "white"
          },
          "hoverlabel": {
           "align": "left"
          },
          "hovermode": "closest",
          "mapbox": {
           "style": "light"
          },
          "paper_bgcolor": "white",
          "plot_bgcolor": "#E5ECF6",
          "polar": {
           "angularaxis": {
            "gridcolor": "white",
            "linecolor": "white",
            "ticks": ""
           },
           "bgcolor": "#E5ECF6",
           "radialaxis": {
            "gridcolor": "white",
            "linecolor": "white",
            "ticks": ""
           }
          },
          "scene": {
           "xaxis": {
            "backgroundcolor": "#E5ECF6",
            "gridcolor": "white",
            "gridwidth": 2,
            "linecolor": "white",
            "showbackground": true,
            "ticks": "",
            "zerolinecolor": "white"
           },
           "yaxis": {
            "backgroundcolor": "#E5ECF6",
            "gridcolor": "white",
            "gridwidth": 2,
            "linecolor": "white",
            "showbackground": true,
            "ticks": "",
            "zerolinecolor": "white"
           },
           "zaxis": {
            "backgroundcolor": "#E5ECF6",
            "gridcolor": "white",
            "gridwidth": 2,
            "linecolor": "white",
            "showbackground": true,
            "ticks": "",
            "zerolinecolor": "white"
           }
          },
          "shapedefaults": {
           "line": {
            "color": "#2a3f5f"
           }
          },
          "ternary": {
           "aaxis": {
            "gridcolor": "white",
            "linecolor": "white",
            "ticks": ""
           },
           "baxis": {
            "gridcolor": "white",
            "linecolor": "white",
            "ticks": ""
           },
           "bgcolor": "#E5ECF6",
           "caxis": {
            "gridcolor": "white",
            "linecolor": "white",
            "ticks": ""
           }
          },
          "title": {
           "x": 0.05
          },
          "xaxis": {
           "automargin": true,
           "gridcolor": "white",
           "linecolor": "white",
           "ticks": "",
           "title": {
            "standoff": 15
           },
           "zerolinecolor": "white",
           "zerolinewidth": 2
          },
          "yaxis": {
           "automargin": true,
           "gridcolor": "white",
           "linecolor": "white",
           "ticks": "",
           "title": {
            "standoff": 15
           },
           "zerolinecolor": "white",
           "zerolinewidth": 2
          }
         }
        },
        "width": 1200,
        "xaxis": {
         "autorange": false,
         "gridcolor": "gray",
         "linecolor": "black",
         "linewidth": 2,
         "range": [
          "2020-01-20",
          "2020-04-16"
         ],
         "showgrid": true,
         "showline": true,
         "showticklabels": true,
         "title": {
          "text": "Date"
         },
         "type": "date"
        },
        "yaxis": {
         "autorange": true,
         "gridcolor": "gray",
         "linecolor": "black",
         "linewidth": 2,
         "range": [
          -0.4771312560774118,
          13.529779579756541
         ],
         "showgrid": true,
         "showline": true,
         "title": {
          "text": "Mortality Rate (%)"
         },
         "type": "linear",
         "zeroline": true
        }
       }
      },
      "image/png": "[encoded data removed]",
      "text/html": [
       "<div>\n",
       "        \n",
       "        \n",
       "            <div id=\"6099935a-b31a-4d24-b188-254ec1089db4\" class=\"plotly-graph-div\" style=\"height:600px; width:1200px;\"></div>\n",
       "            <script type=\"text/javascript\">\n",
       "                require([\"plotly\"], function(Plotly) {\n",
       "                    window.PLOTLYENV=window.PLOTLYENV || {};\n",
       "                    \n",
       "                if (document.getElementById(\"6099935a-b31a-4d24-b188-254ec1089db4\")) {\n",
       "                    Plotly.newPlot(\n",
       "                        '6099935a-b31a-4d24-b188-254ec1089db4',\n",
       "                        [{\"hovertemplate\": \"<b>Date</b>: %{x}<br><b>Rate</b>: %{y}%{text}\", \"line\": {\"width\": 3}, \"mode\": \"lines\", \"name\": \"Iran\", \"showlegend\": true, \"text\": [\"<br><b>Confirmed: </b>2<br><b>Deaths: </b> 2\", \"<br><b>Confirmed: </b>5<br><b>Deaths: </b> 2\", \"<br><b>Confirmed: </b>18<br><b>Deaths: </b> 4\", \"<br><b>Confirmed: </b>28<br><b>Deaths: </b> 5\", \"<br><b>Confirmed: </b>43<br><b>Deaths: </b> 8\", \"<br><b>Confirmed: </b>61<br><b>Deaths: </b> 12\", \"<br><b>Confirmed: </b>95<br><b>Deaths: </b> 16\", \"<br><b>Confirmed: </b>139<br><b>Deaths: </b> 19\", \"<br><b>Confirmed: </b>245<br><b>Deaths: </b> 26\", \"<br><b>Confirmed: </b>388<br><b>Deaths: </b> 34\", \"<br><b>Confirmed: </b>593<br><b>Deaths: </b> 43\", \"<br><b>Confirmed: </b>978<br><b>Deaths: </b> 54\", \"<br><b>Confirmed: </b>1501<br><b>Deaths: </b> 66\", \"<br><b>Confirmed: </b>2336<br><b>Deaths: </b> 77\", \"<br><b>Confirmed: </b>2922<br><b>Deaths: </b> 92\", \"<br><b>Confirmed: </b>3513<br><b>Deaths: </b> 107\", \"<br><b>Confirmed: </b>4747<br><b>Deaths: </b> 124\", \"<br><b>Confirmed: </b>5823<br><b>Deaths: </b> 145\", \"<br><b>Confirmed: </b>6566<br><b>Deaths: </b> 194\", \"<br><b>Confirmed: </b>7161<br><b>Deaths: </b> 237\", \"<br><b>Confirmed: </b>8042<br><b>Deaths: </b> 291\", \"<br><b>Confirmed: </b>9000<br><b>Deaths: </b> 354\", \"<br><b>Confirmed: </b>10075<br><b>Deaths: </b> 429\", \"<br><b>Confirmed: </b>11364<br><b>Deaths: </b> 514\", \"<br><b>Confirmed: </b>12729<br><b>Deaths: </b> 611\", \"<br><b>Confirmed: </b>13938<br><b>Deaths: </b> 724\", \"<br><b>Confirmed: </b>14991<br><b>Deaths: </b> 853\", \"<br><b>Confirmed: </b>16169<br><b>Deaths: </b> 988\", \"<br><b>Confirmed: </b>17361<br><b>Deaths: </b> 1135\", \"<br><b>Confirmed: </b>18407<br><b>Deaths: </b> 1284\", \"<br><b>Confirmed: </b>19644<br><b>Deaths: </b> 1433\", \"<br><b>Confirmed: </b>20610<br><b>Deaths: </b> 1556\", \"<br><b>Confirmed: </b>21638<br><b>Deaths: </b> 1685\", \"<br><b>Confirmed: </b>23049<br><b>Deaths: </b> 1812\", \"<br><b>Confirmed: </b>24811<br><b>Deaths: </b> 1934\", \"<br><b>Confirmed: </b>27017<br><b>Deaths: </b> 2077\", \"<br><b>Confirmed: </b>29406<br><b>Deaths: </b> 2234\", \"<br><b>Confirmed: </b>32332<br><b>Deaths: </b> 2378\", \"<br><b>Confirmed: </b>35408<br><b>Deaths: </b> 2517\", \"<br><b>Confirmed: </b>38309<br><b>Deaths: </b> 2640\", \"<br><b>Confirmed: </b>41495<br><b>Deaths: </b> 2757\", \"<br><b>Confirmed: </b>44605<br><b>Deaths: </b> 2898\", \"<br><b>Confirmed: </b>47593<br><b>Deaths: </b> 3036\", \"<br><b>Confirmed: </b>50468<br><b>Deaths: </b> 3160\", \"<br><b>Confirmed: </b>53183<br><b>Deaths: </b> 3294\", \"<br><b>Confirmed: </b>55743<br><b>Deaths: </b> 3452\", \"<br><b>Confirmed: </b>58226<br><b>Deaths: </b> 3603\", \"<br><b>Confirmed: </b>60500<br><b>Deaths: </b> 3739\", \"<br><b>Confirmed: </b>62589<br><b>Deaths: </b> 3872\", \"<br><b>Confirmed: </b>64586<br><b>Deaths: </b> 3993\", \"<br><b>Confirmed: </b>66220<br><b>Deaths: </b> 4110\", \"<br><b>Confirmed: </b>68192<br><b>Deaths: </b> 4232\", \"<br><b>Confirmed: </b>70029<br><b>Deaths: </b> 4357\", \"<br><b>Confirmed: </b>71686<br><b>Deaths: </b> 4474\", \"<br><b>Confirmed: </b>73303<br><b>Deaths: </b> 4585\"], \"type\": \"scattergl\", \"x\": [\"2020-02-19T00:00:00\", \"2020-02-20T00:00:00\", \"2020-02-21T00:00:00\", \"2020-02-22T00:00:00\", \"2020-02-23T00:00:00\", \"2020-02-24T00:00:00\", \"2020-02-25T00:00:00\", \"2020-02-26T00:00:00\", \"2020-02-27T00:00:00\", \"2020-02-28T00:00:00\", \"2020-02-29T00:00:00\", \"2020-03-01T00:00:00\", \"2020-03-02T00:00:00\", \"2020-03-03T00:00:00\", \"2020-03-04T00:00:00\", \"2020-03-05T00:00:00\", \"2020-03-06T00:00:00\", \"2020-03-07T00:00:00\", \"2020-03-08T00:00:00\", \"2020-03-09T00:00:00\", \"2020-03-10T00:00:00\", \"2020-03-11T00:00:00\", \"2020-03-12T00:00:00\", \"2020-03-13T00:00:00\", \"2020-03-14T00:00:00\", \"2020-03-15T00:00:00\", \"2020-03-16T00:00:00\", \"2020-03-17T00:00:00\", \"2020-03-18T00:00:00\", \"2020-03-19T00:00:00\", \"2020-03-20T00:00:00\", \"2020-03-21T00:00:00\", \"2020-03-22T00:00:00\", \"2020-03-23T00:00:00\", \"2020-03-24T00:00:00\", \"2020-03-25T00:00:00\", \"2020-03-26T00:00:00\", \"2020-03-27T00:00:00\", \"2020-03-28T00:00:00\", \"2020-03-29T00:00:00\", \"2020-03-30T00:00:00\", \"2020-03-31T00:00:00\", \"2020-04-01T00:00:00\", \"2020-04-02T00:00:00\", \"2020-04-03T00:00:00\", \"2020-04-04T00:00:00\", \"2020-04-05T00:00:00\", \"2020-04-06T00:00:00\", \"2020-04-07T00:00:00\", \"2020-04-08T00:00:00\", \"2020-04-09T00:00:00\", \"2020-04-10T00:00:00\", \"2020-04-11T00:00:00\", \"2020-04-12T00:00:00\", \"2020-04-13T00:00:00\"], \"y\": [100.0, 40.0, 22.22222222222222, 17.857142857142858, 18.6046511627907, 19.672131147540984, 16.842105263157894, 13.66906474820144, 10.612244897959183, 8.762886597938143, 7.251264755480608, 5.521472392638037, 4.397068620919387, 3.296232876712329, 3.1485284052019162, 3.0458297751209793, 2.6121761112281443, 2.4901253649321657, 2.954614681693573, 3.309593632174277, 3.618502859985078, 3.933333333333333, 4.258064516129032, 4.523055262231609, 4.800062848613402, 5.194432486726933, 5.690080715095725, 6.110458284371328, 6.537641840907781, 6.975607105992286, 7.294848299735287, 7.54973313925279, 7.78722617617155, 7.8615124300403485, 7.79492966829229, 7.6877521560498945, 7.597089029449772, 7.35494247185451, 7.108563036601898, 6.891331018820643, 6.644173996867092, 6.497029480999888, 6.379089361880949, 6.2613933581675525, 6.193708515879134, 6.1927058105950525, 6.187957269948133, 6.180165289256198, 6.186390579814344, 6.182454401882761, 6.206584113560858, 6.206006569685594, 6.221708149480929, 6.241107050191111, 6.254859964803623]}, {\"hovertemplate\": \"<b>Date</b>: %{x}<br><b>Rate</b>: %{y}%{text}\", \"line\": {\"width\": 3}, \"mode\": \"lines\", \"name\": \"Italy\", \"showlegend\": true, \"text\": [\"<br><b>Confirmed: </b>20<br><b>Deaths: </b> 1\", \"<br><b>Confirmed: </b>62<br><b>Deaths: </b> 2\", \"<br><b>Confirmed: </b>155<br><b>Deaths: </b> 3\", \"<br><b>Confirmed: </b>229<br><b>Deaths: </b> 7\", \"<br><b>Confirmed: </b>322<br><b>Deaths: </b> 10\", \"<br><b>Confirmed: </b>453<br><b>Deaths: </b> 12\", \"<br><b>Confirmed: </b>655<br><b>Deaths: </b> 17\", \"<br><b>Confirmed: </b>888<br><b>Deaths: </b> 21\", \"<br><b>Confirmed: </b>1128<br><b>Deaths: </b> 29\", \"<br><b>Confirmed: </b>1694<br><b>Deaths: </b> 34\", \"<br><b>Confirmed: </b>2036<br><b>Deaths: </b> 52\", \"<br><b>Confirmed: </b>2502<br><b>Deaths: </b> 79\", \"<br><b>Confirmed: </b>3089<br><b>Deaths: </b> 107\", \"<br><b>Confirmed: </b>3858<br><b>Deaths: </b> 148\", \"<br><b>Confirmed: </b>4636<br><b>Deaths: </b> 197\", \"<br><b>Confirmed: </b>5883<br><b>Deaths: </b> 233\", \"<br><b>Confirmed: </b>7375<br><b>Deaths: </b> 366\", \"<br><b>Confirmed: </b>9172<br><b>Deaths: </b> 463\", \"<br><b>Confirmed: </b>10149<br><b>Deaths: </b> 631\", \"<br><b>Confirmed: </b>12462<br><b>Deaths: </b> 827\", \"<br><b>Confirmed: </b>12462<br><b>Deaths: </b> 827\", \"<br><b>Confirmed: </b>17660<br><b>Deaths: </b> 1266\", \"<br><b>Confirmed: </b>21157<br><b>Deaths: </b> 1441\", \"<br><b>Confirmed: </b>24747<br><b>Deaths: </b> 1809\", \"<br><b>Confirmed: </b>27980<br><b>Deaths: </b> 2158\", \"<br><b>Confirmed: </b>31506<br><b>Deaths: </b> 2503\", \"<br><b>Confirmed: </b>35713<br><b>Deaths: </b> 2978\", \"<br><b>Confirmed: </b>41035<br><b>Deaths: </b> 3405\", \"<br><b>Confirmed: </b>47021<br><b>Deaths: </b> 4032\", \"<br><b>Confirmed: </b>53578<br><b>Deaths: </b> 4825\", \"<br><b>Confirmed: </b>59138<br><b>Deaths: </b> 5476\", \"<br><b>Confirmed: </b>63927<br><b>Deaths: </b> 6077\", \"<br><b>Confirmed: </b>69176<br><b>Deaths: </b> 6820\", \"<br><b>Confirmed: </b>74386<br><b>Deaths: </b> 7503\", \"<br><b>Confirmed: </b>80589<br><b>Deaths: </b> 8215\", \"<br><b>Confirmed: </b>86498<br><b>Deaths: </b> 9134\", \"<br><b>Confirmed: </b>92472<br><b>Deaths: </b> 10023\", \"<br><b>Confirmed: </b>97689<br><b>Deaths: </b> 10779\", \"<br><b>Confirmed: </b>101739<br><b>Deaths: </b> 11591\", \"<br><b>Confirmed: </b>105792<br><b>Deaths: </b> 12428\", \"<br><b>Confirmed: </b>110574<br><b>Deaths: </b> 13155\", \"<br><b>Confirmed: </b>115242<br><b>Deaths: </b> 13915\", \"<br><b>Confirmed: </b>119827<br><b>Deaths: </b> 14681\", \"<br><b>Confirmed: </b>124632<br><b>Deaths: </b> 15362\", \"<br><b>Confirmed: </b>128948<br><b>Deaths: </b> 15887\", \"<br><b>Confirmed: </b>132547<br><b>Deaths: </b> 16523\", \"<br><b>Confirmed: </b>135586<br><b>Deaths: </b> 17127\", \"<br><b>Confirmed: </b>139422<br><b>Deaths: </b> 17669\", \"<br><b>Confirmed: </b>143626<br><b>Deaths: </b> 18279\", \"<br><b>Confirmed: </b>147577<br><b>Deaths: </b> 18849\", \"<br><b>Confirmed: </b>152271<br><b>Deaths: </b> 19468\", \"<br><b>Confirmed: </b>156363<br><b>Deaths: </b> 19899\", \"<br><b>Confirmed: </b>159516<br><b>Deaths: </b> 20465\"], \"type\": \"scattergl\", \"x\": [\"2020-02-21T00:00:00\", \"2020-02-22T00:00:00\", \"2020-02-23T00:00:00\", \"2020-02-24T00:00:00\", \"2020-02-25T00:00:00\", \"2020-02-26T00:00:00\", \"2020-02-27T00:00:00\", \"2020-02-28T00:00:00\", \"2020-02-29T00:00:00\", \"2020-03-01T00:00:00\", \"2020-03-02T00:00:00\", \"2020-03-03T00:00:00\", \"2020-03-04T00:00:00\", \"2020-03-05T00:00:00\", \"2020-03-06T00:00:00\", \"2020-03-07T00:00:00\", \"2020-03-08T00:00:00\", \"2020-03-09T00:00:00\", \"2020-03-10T00:00:00\", \"2020-03-11T00:00:00\", \"2020-03-12T00:00:00\", \"2020-03-13T00:00:00\", \"2020-03-14T00:00:00\", \"2020-03-15T00:00:00\", \"2020-03-16T00:00:00\", \"2020-03-17T00:00:00\", \"2020-03-18T00:00:00\", \"2020-03-19T00:00:00\", \"2020-03-20T00:00:00\", \"2020-03-21T00:00:00\", \"2020-03-22T00:00:00\", \"2020-03-23T00:00:00\", \"2020-03-24T00:00:00\", \"2020-03-25T00:00:00\", \"2020-03-26T00:00:00\", \"2020-03-27T00:00:00\", \"2020-03-28T00:00:00\", \"2020-03-29T00:00:00\", \"2020-03-30T00:00:00\", \"2020-03-31T00:00:00\", \"2020-04-01T00:00:00\", \"2020-04-02T00:00:00\", \"2020-04-03T00:00:00\", \"2020-04-04T00:00:00\", \"2020-04-05T00:00:00\", \"2020-04-06T00:00:00\", \"2020-04-07T00:00:00\", \"2020-04-08T00:00:00\", \"2020-04-09T00:00:00\", \"2020-04-10T00:00:00\", \"2020-04-11T00:00:00\", \"2020-04-12T00:00:00\", \"2020-04-13T00:00:00\"], \"y\": [5.0, 3.225806451612903, 1.935483870967742, 3.056768558951965, 3.1055900621118013, 2.6490066225165565, 2.595419847328244, 2.364864864864865, 2.5709219858156027, 2.0070838252656436, 2.5540275049115913, 3.1574740207833734, 3.463904176108773, 3.8361845515811304, 4.249352890422778, 3.960564337922828, 4.96271186440678, 5.04797208896642, 6.21736131638585, 6.636173968865351, 6.636173968865351, 7.168742921857304, 6.810984544122513, 7.309976966905079, 7.71265189421015, 7.9445185044118585, 8.338700193206956, 8.29779456561472, 8.574892069500862, 9.00556198439658, 9.259697656329264, 9.506155458569932, 9.858910604834046, 10.086575430860647, 10.193698891908324, 10.559781729057319, 10.838956657150273, 11.03399563922243, 11.392877854116907, 11.747580157289777, 11.897010147050842, 12.074590860970828, 12.25182972118137, 12.325887412542526, 12.320470267084406, 12.465766860057187, 12.631835145221485, 12.673035819311156, 12.726804339047249, 12.772315469212684, 12.785100248898345, 12.726156443659944, 12.829434037964843]}, {\"hovertemplate\": \"<b>Date</b>: %{x}<br><b>Rate</b>: %{y}%{text}\", \"line\": {\"width\": 3}, \"mode\": \"lines\", \"name\": \"Mainland China\", \"showlegend\": true, \"text\": [\"<br><b>Confirmed: </b>547<br><b>Deaths: </b> 17\", \"<br><b>Confirmed: </b>639<br><b>Deaths: </b> 18\", \"<br><b>Confirmed: </b>916<br><b>Deaths: </b> 26\", \"<br><b>Confirmed: </b>1399<br><b>Deaths: </b> 42\", \"<br><b>Confirmed: </b>2062<br><b>Deaths: </b> 56\", \"<br><b>Confirmed: </b>2863<br><b>Deaths: </b> 82\", \"<br><b>Confirmed: </b>5494<br><b>Deaths: </b> 131\", \"<br><b>Confirmed: </b>6070<br><b>Deaths: </b> 133\", \"<br><b>Confirmed: </b>8124<br><b>Deaths: </b> 171\", \"<br><b>Confirmed: </b>9783<br><b>Deaths: </b> 213\", \"<br><b>Confirmed: </b>11871<br><b>Deaths: </b> 259\", \"<br><b>Confirmed: </b>16607<br><b>Deaths: </b> 361\", \"<br><b>Confirmed: </b>19693<br><b>Deaths: </b> 425\", \"<br><b>Confirmed: </b>23680<br><b>Deaths: </b> 490\", \"<br><b>Confirmed: </b>27409<br><b>Deaths: </b> 562\", \"<br><b>Confirmed: </b>30553<br><b>Deaths: </b> 632\", \"<br><b>Confirmed: </b>34075<br><b>Deaths: </b> 717\", \"<br><b>Confirmed: </b>36778<br><b>Deaths: </b> 804\", \"<br><b>Confirmed: </b>39790<br><b>Deaths: </b> 904\", \"<br><b>Confirmed: </b>42306<br><b>Deaths: </b> 1011\", \"<br><b>Confirmed: </b>44327<br><b>Deaths: </b> 1111\", \"<br><b>Confirmed: </b>44699<br><b>Deaths: </b> 1116\", \"<br><b>Confirmed: </b>59832<br><b>Deaths: </b> 1368\", \"<br><b>Confirmed: </b>66292<br><b>Deaths: </b> 1520\", \"<br><b>Confirmed: </b>68347<br><b>Deaths: </b> 1662\", \"<br><b>Confirmed: </b>70446<br><b>Deaths: </b> 1765\", \"<br><b>Confirmed: </b>72364<br><b>Deaths: </b> 1863\", \"<br><b>Confirmed: </b>74139<br><b>Deaths: </b> 2002\", \"<br><b>Confirmed: </b>74546<br><b>Deaths: </b> 2114\", \"<br><b>Confirmed: </b>74999<br><b>Deaths: </b> 2236\", \"<br><b>Confirmed: </b>75472<br><b>Deaths: </b> 2236\", \"<br><b>Confirmed: </b>76922<br><b>Deaths: </b> 2441\", \"<br><b>Confirmed: </b>76938<br><b>Deaths: </b> 2443\", \"<br><b>Confirmed: </b>77152<br><b>Deaths: </b> 2593\", \"<br><b>Confirmed: </b>77660<br><b>Deaths: </b> 2663\", \"<br><b>Confirmed: </b>78065<br><b>Deaths: </b> 2715\", \"<br><b>Confirmed: </b>78498<br><b>Deaths: </b> 2744\", \"<br><b>Confirmed: </b>78824<br><b>Deaths: </b> 2788\", \"<br><b>Confirmed: </b>79251<br><b>Deaths: </b> 2835\", \"<br><b>Confirmed: </b>79826<br><b>Deaths: </b> 2870\", \"<br><b>Confirmed: </b>80026<br><b>Deaths: </b> 2912\", \"<br><b>Confirmed: </b>80151<br><b>Deaths: </b> 2945\", \"<br><b>Confirmed: </b>80271<br><b>Deaths: </b> 2981\", \"<br><b>Confirmed: </b>80422<br><b>Deaths: </b> 3013\", \"<br><b>Confirmed: </b>80573<br><b>Deaths: </b> 3042\", \"<br><b>Confirmed: </b>80652<br><b>Deaths: </b> 3070\", \"<br><b>Confirmed: </b>80699<br><b>Deaths: </b> 3097\", \"<br><b>Confirmed: </b>80735<br><b>Deaths: </b> 3120\", \"<br><b>Confirmed: </b>80757<br><b>Deaths: </b> 3136\", \"<br><b>Confirmed: </b>80785<br><b>Deaths: </b> 3158\", \"<br><b>Confirmed: </b>80793<br><b>Deaths: </b> 3169\", \"<br><b>Confirmed: </b>80801<br><b>Deaths: </b> 3176\", \"<br><b>Confirmed: </b>80827<br><b>Deaths: </b> 3189\", \"<br><b>Confirmed: </b>80848<br><b>Deaths: </b> 3199\", \"<br><b>Confirmed: </b>80867<br><b>Deaths: </b> 3213\", \"<br><b>Confirmed: </b>80884<br><b>Deaths: </b> 3226\", \"<br><b>Confirmed: </b>80906<br><b>Deaths: </b> 3237\", \"<br><b>Confirmed: </b>80931<br><b>Deaths: </b> 3245\", \"<br><b>Confirmed: </b>80977<br><b>Deaths: </b> 3249\", \"<br><b>Confirmed: </b>81014<br><b>Deaths: </b> 3255\", \"<br><b>Confirmed: </b>81060<br><b>Deaths: </b> 3261\", \"<br><b>Confirmed: </b>81116<br><b>Deaths: </b> 3270\", \"<br><b>Confirmed: </b>81180<br><b>Deaths: </b> 3277\", \"<br><b>Confirmed: </b>81221<br><b>Deaths: </b> 3281\", \"<br><b>Confirmed: </b>81298<br><b>Deaths: </b> 3287\", \"<br><b>Confirmed: </b>81345<br><b>Deaths: </b> 3292\", \"<br><b>Confirmed: </b>81401<br><b>Deaths: </b> 3295\", \"<br><b>Confirmed: </b>81444<br><b>Deaths: </b> 3300\", \"<br><b>Confirmed: </b>81478<br><b>Deaths: </b> 3304\", \"<br><b>Confirmed: </b>81524<br><b>Deaths: </b> 3305\", \"<br><b>Confirmed: </b>81555<br><b>Deaths: </b> 3312\", \"<br><b>Confirmed: </b>81589<br><b>Deaths: </b> 3318\", \"<br><b>Confirmed: </b>81623<br><b>Deaths: </b> 3322\", \"<br><b>Confirmed: </b>81638<br><b>Deaths: </b> 3326\", \"<br><b>Confirmed: </b>81668<br><b>Deaths: </b> 3329\", \"<br><b>Confirmed: </b>81707<br><b>Deaths: </b> 3331\", \"<br><b>Confirmed: </b>81739<br><b>Deaths: </b> 3331\", \"<br><b>Confirmed: </b>81804<br><b>Deaths: </b> 3333\", \"<br><b>Confirmed: </b>81865<br><b>Deaths: </b> 3335\", \"<br><b>Confirmed: </b>81907<br><b>Deaths: </b> 3336\", \"<br><b>Confirmed: </b>81969<br><b>Deaths: </b> 3339\", \"<br><b>Confirmed: </b>82085<br><b>Deaths: </b> 3339\", \"<br><b>Confirmed: </b>82159<br><b>Deaths: </b> 3341\"], \"type\": \"scattergl\", \"x\": [\"2020-01-22T00:00:00\", \"2020-01-23T00:00:00\", \"2020-01-24T00:00:00\", \"2020-01-25T00:00:00\", \"2020-01-26T00:00:00\", \"2020-01-27T00:00:00\", \"2020-01-28T00:00:00\", \"2020-01-29T00:00:00\", \"2020-01-30T00:00:00\", \"2020-01-31T00:00:00\", \"2020-02-01T00:00:00\", \"2020-02-02T00:00:00\", \"2020-02-03T00:00:00\", \"2020-02-04T00:00:00\", \"2020-02-05T00:00:00\", \"2020-02-06T00:00:00\", \"2020-02-07T00:00:00\", \"2020-02-08T00:00:00\", \"2020-02-09T00:00:00\", \"2020-02-10T00:00:00\", \"2020-02-11T00:00:00\", \"2020-02-12T00:00:00\", \"2020-02-13T00:00:00\", \"2020-02-14T00:00:00\", \"2020-02-15T00:00:00\", \"2020-02-16T00:00:00\", \"2020-02-17T00:00:00\", \"2020-02-18T00:00:00\", \"2020-02-19T00:00:00\", \"2020-02-20T00:00:00\", \"2020-02-21T00:00:00\", \"2020-02-22T00:00:00\", \"2020-02-23T00:00:00\", \"2020-02-24T00:00:00\", \"2020-02-25T00:00:00\", \"2020-02-26T00:00:00\", \"2020-02-27T00:00:00\", \"2020-02-28T00:00:00\", \"2020-02-29T00:00:00\", \"2020-03-01T00:00:00\", \"2020-03-02T00:00:00\", \"2020-03-03T00:00:00\", \"2020-03-04T00:00:00\", \"2020-03-05T00:00:00\", \"2020-03-06T00:00:00\", \"2020-03-07T00:00:00\", \"2020-03-08T00:00:00\", \"2020-03-09T00:00:00\", \"2020-03-10T00:00:00\", \"2020-03-11T00:00:00\", \"2020-03-12T00:00:00\", \"2020-03-13T00:00:00\", \"2020-03-14T00:00:00\", \"2020-03-15T00:00:00\", \"2020-03-16T00:00:00\", \"2020-03-17T00:00:00\", \"2020-03-18T00:00:00\", \"2020-03-19T00:00:00\", \"2020-03-20T00:00:00\", \"2020-03-21T00:00:00\", \"2020-03-22T00:00:00\", \"2020-03-23T00:00:00\", \"2020-03-24T00:00:00\", \"2020-03-25T00:00:00\", \"2020-03-26T00:00:00\", \"2020-03-27T00:00:00\", \"2020-03-28T00:00:00\", \"2020-03-29T00:00:00\", \"2020-03-30T00:00:00\", \"2020-03-31T00:00:00\", \"2020-04-01T00:00:00\", \"2020-04-02T00:00:00\", \"2020-04-03T00:00:00\", \"2020-04-04T00:00:00\", \"2020-04-05T00:00:00\", \"2020-04-06T00:00:00\", \"2020-04-07T00:00:00\", \"2020-04-08T00:00:00\", \"2020-04-09T00:00:00\", \"2020-04-10T00:00:00\", \"2020-04-11T00:00:00\", \"2020-04-12T00:00:00\", \"2020-04-13T00:00:00\"], \"y\": [3.1078610603290677, 2.8169014084507045, 2.8384279475982535, 3.0021443888491777, 2.7158098933074686, 2.8641285365001745, 2.3844193665817257, 2.191103789126853, 2.104874446085672, 2.177246243483594, 2.1817875494903545, 2.17378214006142, 2.15812725333875, 2.0692567567567566, 2.050421394432486, 2.0685366412463586, 2.1041819515774027, 2.186089510033172, 2.2719276200050267, 2.38973195291448, 2.506373090892684, 2.4967001498914962, 2.286401925391095, 2.2928860194291922, 2.4317087801951804, 2.5054651790023565, 2.5744845503288927, 2.7003331579870244, 2.8358329085396936, 2.981373084974466, 2.9626881492474033, 3.1733444268219757, 3.1752839949049885, 3.360897967648279, 3.429049703837239, 3.4778710049317874, 3.495630461922597, 3.536993808992185, 3.577241927546656, 3.5953198206098262, 3.6388173843500864, 3.6743147309453406, 3.713669943067858, 3.7464872796001094, 3.7754582800690057, 3.8064772107325298, 3.8377179395035874, 3.864494952622778, 3.883254702378741, 3.9091415485548056, 3.9223695122102162, 3.9306444227175406, 3.945463768295248, 3.9568078369285575, 3.9731905474420968, 3.9884278720142428, 4.000939361728426, 4.0095884148225025, 4.012250392086642, 4.017824079788679, 4.0229459659511475, 4.031263869027072, 4.036708548903671, 4.039595671070289, 4.043149892986298, 4.046960476980761, 4.047861819879363, 4.051863857374392, 4.055082353518742, 4.054020901820323, 4.0610630862608055, 4.066724681023177, 4.069931269372604, 4.074083147553835, 4.076259979428907, 4.076762088927509, 4.0751660773926766, 4.074372891301159, 4.07378000366457, 4.0729119611266436, 4.073491197891886, 4.067734665285984, 4.066505191153738]}, {\"hovertemplate\": \"<b>Date</b>: %{x}<br><b>Rate</b>: %{y}%{text}\", \"line\": {\"width\": 3}, \"mode\": \"lines\", \"name\": \"Portugal\", \"showlegend\": true, \"text\": [\"<br><b>Confirmed: </b>448<br><b>Deaths: </b> 1\", \"<br><b>Confirmed: </b>448<br><b>Deaths: </b> 2\", \"<br><b>Confirmed: </b>785<br><b>Deaths: </b> 3\", \"<br><b>Confirmed: </b>1020<br><b>Deaths: </b> 6\", \"<br><b>Confirmed: </b>1280<br><b>Deaths: </b> 12\", \"<br><b>Confirmed: </b>1600<br><b>Deaths: </b> 14\", \"<br><b>Confirmed: </b>2060<br><b>Deaths: </b> 23\", \"<br><b>Confirmed: </b>2362<br><b>Deaths: </b> 33\", \"<br><b>Confirmed: </b>2995<br><b>Deaths: </b> 43\", \"<br><b>Confirmed: </b>3544<br><b>Deaths: </b> 60\", \"<br><b>Confirmed: </b>4268<br><b>Deaths: </b> 76\", \"<br><b>Confirmed: </b>5170<br><b>Deaths: </b> 100\", \"<br><b>Confirmed: </b>5962<br><b>Deaths: </b> 119\", \"<br><b>Confirmed: </b>6408<br><b>Deaths: </b> 140\", \"<br><b>Confirmed: </b>7443<br><b>Deaths: </b> 160\", \"<br><b>Confirmed: </b>8251<br><b>Deaths: </b> 187\", \"<br><b>Confirmed: </b>9034<br><b>Deaths: </b> 209\", \"<br><b>Confirmed: </b>9886<br><b>Deaths: </b> 246\", \"<br><b>Confirmed: </b>10524<br><b>Deaths: </b> 266\", \"<br><b>Confirmed: </b>11278<br><b>Deaths: </b> 295\", \"<br><b>Confirmed: </b>11730<br><b>Deaths: </b> 311\", \"<br><b>Confirmed: </b>12442<br><b>Deaths: </b> 345\", \"<br><b>Confirmed: </b>13141<br><b>Deaths: </b> 380\", \"<br><b>Confirmed: </b>13956<br><b>Deaths: </b> 409\", \"<br><b>Confirmed: </b>15472<br><b>Deaths: </b> 435\", \"<br><b>Confirmed: </b>15987<br><b>Deaths: </b> 470\", \"<br><b>Confirmed: </b>16585<br><b>Deaths: </b> 504\", \"<br><b>Confirmed: </b>16934<br><b>Deaths: </b> 535\"], \"type\": \"scattergl\", \"x\": [\"2020-03-17T00:00:00\", \"2020-03-18T00:00:00\", \"2020-03-19T00:00:00\", \"2020-03-20T00:00:00\", \"2020-03-21T00:00:00\", \"2020-03-22T00:00:00\", \"2020-03-23T00:00:00\", \"2020-03-24T00:00:00\", \"2020-03-25T00:00:00\", \"2020-03-26T00:00:00\", \"2020-03-27T00:00:00\", \"2020-03-28T00:00:00\", \"2020-03-29T00:00:00\", \"2020-03-30T00:00:00\", \"2020-03-31T00:00:00\", \"2020-04-01T00:00:00\", \"2020-04-02T00:00:00\", \"2020-04-03T00:00:00\", \"2020-04-04T00:00:00\", \"2020-04-05T00:00:00\", \"2020-04-06T00:00:00\", \"2020-04-07T00:00:00\", \"2020-04-08T00:00:00\", \"2020-04-09T00:00:00\", \"2020-04-10T00:00:00\", \"2020-04-11T00:00:00\", \"2020-04-12T00:00:00\", \"2020-04-13T00:00:00\"], \"y\": [0.2232142857142857, 0.4464285714285714, 0.3821656050955414, 0.5882352941176471, 0.9375, 0.8750000000000001, 1.116504854368932, 1.397121083827265, 1.4357262103505843, 1.6930022573363432, 1.7806935332708531, 1.9342359767891684, 1.9959745051995974, 2.184769038701623, 2.149670831653903, 2.2663919524906073, 2.3134823998228913, 2.488367388225774, 2.5275560623337134, 2.615712005674765, 2.6513213981244674, 2.7728660986979583, 2.891712959439921, 2.930639151619375, 2.81153050672182, 2.939888659535873, 3.038890563762436, 3.1593244360458255]}, {\"hovertemplate\": \"<b>Date</b>: %{x}<br><b>Rate</b>: %{y}%{text}\", \"line\": {\"width\": 3}, \"mode\": \"lines\", \"name\": \"Spain\", \"showlegend\": true, \"text\": [\"<br><b>Confirmed: </b>165<br><b>Deaths: </b> 1\", \"<br><b>Confirmed: </b>222<br><b>Deaths: </b> 2\", \"<br><b>Confirmed: </b>259<br><b>Deaths: </b> 3\", \"<br><b>Confirmed: </b>400<br><b>Deaths: </b> 5\", \"<br><b>Confirmed: </b>500<br><b>Deaths: </b> 10\", \"<br><b>Confirmed: </b>673<br><b>Deaths: </b> 17\", \"<br><b>Confirmed: </b>1073<br><b>Deaths: </b> 28\", \"<br><b>Confirmed: </b>1695<br><b>Deaths: </b> 35\", \"<br><b>Confirmed: </b>2277<br><b>Deaths: </b> 54\", \"<br><b>Confirmed: </b>2277<br><b>Deaths: </b> 55\", \"<br><b>Confirmed: </b>5232<br><b>Deaths: </b> 133\", \"<br><b>Confirmed: </b>6391<br><b>Deaths: </b> 195\", \"<br><b>Confirmed: </b>7798<br><b>Deaths: </b> 289\", \"<br><b>Confirmed: </b>9942<br><b>Deaths: </b> 342\", \"<br><b>Confirmed: </b>11748<br><b>Deaths: </b> 533\", \"<br><b>Confirmed: </b>13910<br><b>Deaths: </b> 623\", \"<br><b>Confirmed: </b>17963<br><b>Deaths: </b> 830\", \"<br><b>Confirmed: </b>20410<br><b>Deaths: </b> 1043\", \"<br><b>Confirmed: </b>25374<br><b>Deaths: </b> 1375\", \"<br><b>Confirmed: </b>28603<br><b>Deaths: </b> 1756\", \"<br><b>Confirmed: </b>35136<br><b>Deaths: </b> 2311\", \"<br><b>Confirmed: </b>39885<br><b>Deaths: </b> 2808\", \"<br><b>Confirmed: </b>49515<br><b>Deaths: </b> 3647\", \"<br><b>Confirmed: </b>57786<br><b>Deaths: </b> 4365\", \"<br><b>Confirmed: </b>65719<br><b>Deaths: </b> 5138\", \"<br><b>Confirmed: </b>73235<br><b>Deaths: </b> 5982\", \"<br><b>Confirmed: </b>80110<br><b>Deaths: </b> 6803\", \"<br><b>Confirmed: </b>87956<br><b>Deaths: </b> 7716\", \"<br><b>Confirmed: </b>95923<br><b>Deaths: </b> 8464\", \"<br><b>Confirmed: </b>104118<br><b>Deaths: </b> 9387\", \"<br><b>Confirmed: </b>112065<br><b>Deaths: </b> 10348\", \"<br><b>Confirmed: </b>119199<br><b>Deaths: </b> 11198\", \"<br><b>Confirmed: </b>126168<br><b>Deaths: </b> 11947\", \"<br><b>Confirmed: </b>131646<br><b>Deaths: </b> 12641\", \"<br><b>Confirmed: </b>136675<br><b>Deaths: </b> 13341\", \"<br><b>Confirmed: </b>141942<br><b>Deaths: </b> 14045\", \"<br><b>Confirmed: </b>148220<br><b>Deaths: </b> 14792\", \"<br><b>Confirmed: </b>153222<br><b>Deaths: </b> 15447\", \"<br><b>Confirmed: </b>158273<br><b>Deaths: </b> 16081\", \"<br><b>Confirmed: </b>163027<br><b>Deaths: </b> 16606\", \"<br><b>Confirmed: </b>166831<br><b>Deaths: </b> 17209\", \"<br><b>Confirmed: </b>170099<br><b>Deaths: </b> 17756\"], \"type\": \"scattergl\", \"x\": [\"2020-03-03T00:00:00\", \"2020-03-04T00:00:00\", \"2020-03-05T00:00:00\", \"2020-03-06T00:00:00\", \"2020-03-07T00:00:00\", \"2020-03-08T00:00:00\", \"2020-03-09T00:00:00\", \"2020-03-10T00:00:00\", \"2020-03-11T00:00:00\", \"2020-03-12T00:00:00\", \"2020-03-13T00:00:00\", \"2020-03-14T00:00:00\", \"2020-03-15T00:00:00\", \"2020-03-16T00:00:00\", \"2020-03-17T00:00:00\", \"2020-03-18T00:00:00\", \"2020-03-19T00:00:00\", \"2020-03-20T00:00:00\", \"2020-03-21T00:00:00\", \"2020-03-22T00:00:00\", \"2020-03-23T00:00:00\", \"2020-03-24T00:00:00\", \"2020-03-25T00:00:00\", \"2020-03-26T00:00:00\", \"2020-03-27T00:00:00\", \"2020-03-28T00:00:00\", \"2020-03-29T00:00:00\", \"2020-03-30T00:00:00\", \"2020-03-31T00:00:00\", \"2020-04-01T00:00:00\", \"2020-04-02T00:00:00\", \"2020-04-03T00:00:00\", \"2020-04-04T00:00:00\", \"2020-04-05T00:00:00\", \"2020-04-06T00:00:00\", \"2020-04-07T00:00:00\", \"2020-04-08T00:00:00\", \"2020-04-09T00:00:00\", \"2020-04-10T00:00:00\", \"2020-04-11T00:00:00\", \"2020-04-12T00:00:00\", \"2020-04-13T00:00:00\"], \"y\": [0.6060606060606061, 0.9009009009009009, 1.1583011583011582, 1.25, 2.0, 2.526002971768202, 2.60950605778192, 2.0648967551622417, 2.371541501976284, 2.4154589371980677, 2.5420489296636086, 3.0511657017681113, 3.7060784816619647, 3.4399517199758605, 4.536942458290773, 4.478792235801582, 4.620609029672104, 5.110240078392945, 5.418932765823284, 6.1392161661364195, 6.577299635701276, 7.04024069198947, 7.365444814702615, 7.553732738033434, 7.818134785982744, 8.168225575203113, 8.49207339907627, 8.772568102232935, 8.823744044702522, 9.015732150060508, 9.233926738946147, 9.394374113876793, 9.46912053769577, 9.602266684897376, 9.76111212730931, 9.894886643840442, 9.979759816489004, 10.081450444453147, 10.16029265888686, 10.186042802725929, 10.315229184024552, 10.438626917265829]}, {\"hovertemplate\": \"<b>Date</b>: %{x}<br><b>Rate</b>: %{y}%{text}\", \"line\": {\"width\": 5}, \"mode\": \"lines\", \"name\": \"Turkey\", \"showlegend\": true, \"text\": [\"<br><b>Confirmed: </b>47<br><b>Deaths: </b> 1\", \"<br><b>Confirmed: </b>98<br><b>Deaths: </b> 1\", \"<br><b>Confirmed: </b>192<br><b>Deaths: </b> 3\", \"<br><b>Confirmed: </b>359<br><b>Deaths: </b> 4\", \"<br><b>Confirmed: </b>670<br><b>Deaths: </b> 9\", \"<br><b>Confirmed: </b>1236<br><b>Deaths: </b> 30\", \"<br><b>Confirmed: </b>1529<br><b>Deaths: </b> 37\", \"<br><b>Confirmed: </b>1872<br><b>Deaths: </b> 44\", \"<br><b>Confirmed: </b>2433<br><b>Deaths: </b> 59\", \"<br><b>Confirmed: </b>3629<br><b>Deaths: </b> 75\", \"<br><b>Confirmed: </b>5698<br><b>Deaths: </b> 92\", \"<br><b>Confirmed: </b>7402<br><b>Deaths: </b> 108\", \"<br><b>Confirmed: </b>9217<br><b>Deaths: </b> 131\", \"<br><b>Confirmed: </b>10827<br><b>Deaths: </b> 168\", \"<br><b>Confirmed: </b>13531<br><b>Deaths: </b> 214\", \"<br><b>Confirmed: </b>15679<br><b>Deaths: </b> 277\", \"<br><b>Confirmed: </b>18135<br><b>Deaths: </b> 356\", \"<br><b>Confirmed: </b>20921<br><b>Deaths: </b> 425\", \"<br><b>Confirmed: </b>23934<br><b>Deaths: </b> 501\", \"<br><b>Confirmed: </b>27069<br><b>Deaths: </b> 574\", \"<br><b>Confirmed: </b>30217<br><b>Deaths: </b> 649\", \"<br><b>Confirmed: </b>34109<br><b>Deaths: </b> 725\", \"<br><b>Confirmed: </b>38226<br><b>Deaths: </b> 812\", \"<br><b>Confirmed: </b>42282<br><b>Deaths: </b> 908\", \"<br><b>Confirmed: </b>47029<br><b>Deaths: </b> 1006\", \"<br><b>Confirmed: </b>52167<br><b>Deaths: </b> 1101\", \"<br><b>Confirmed: </b>56956<br><b>Deaths: </b> 1198\", \"<br><b>Confirmed: </b>61049<br><b>Deaths: </b> 1296\"], \"type\": \"scattergl\", \"x\": [\"2020-03-17T00:00:00\", \"2020-03-18T00:00:00\", \"2020-03-19T00:00:00\", \"2020-03-20T00:00:00\", \"2020-03-21T00:00:00\", \"2020-03-22T00:00:00\", \"2020-03-23T00:00:00\", \"2020-03-24T00:00:00\", \"2020-03-25T00:00:00\", \"2020-03-26T00:00:00\", \"2020-03-27T00:00:00\", \"2020-03-28T00:00:00\", \"2020-03-29T00:00:00\", \"2020-03-30T00:00:00\", \"2020-03-31T00:00:00\", \"2020-04-01T00:00:00\", \"2020-04-02T00:00:00\", \"2020-04-03T00:00:00\", \"2020-04-04T00:00:00\", \"2020-04-05T00:00:00\", \"2020-04-06T00:00:00\", \"2020-04-07T00:00:00\", \"2020-04-08T00:00:00\", \"2020-04-09T00:00:00\", \"2020-04-10T00:00:00\", \"2020-04-11T00:00:00\", \"2020-04-12T00:00:00\", \"2020-04-13T00:00:00\"], \"y\": [2.127659574468085, 1.0204081632653061, 1.5625, 1.1142061281337048, 1.3432835820895521, 2.4271844660194173, 2.419882275997384, 2.3504273504273505, 2.424989724619811, 2.066685037200331, 1.6146016146016147, 1.4590651175358011, 1.421286752739503, 1.5516763646439458, 1.5815534698100657, 1.7666943044837045, 1.9630548662806728, 2.0314516514506957, 2.0932564552519426, 2.1205068528575124, 2.1477975973789585, 2.1255387141223725, 2.124208653795846, 2.147485927817984, 2.1391056582108914, 2.110529645177986, 2.1033780462111107, 2.122884895739488]}, {\"hovertemplate\": \"<b>Date</b>: %{x}<br><b>Rate</b>: %{y}%{text}\", \"line\": {\"width\": 3}, \"mode\": \"lines\", \"name\": \"UK\", \"showlegend\": true, \"text\": [\"<br><b>Confirmed: </b>115<br><b>Deaths: </b> 1\", \"<br><b>Confirmed: </b>163<br><b>Deaths: </b> 2\", \"<br><b>Confirmed: </b>206<br><b>Deaths: </b> 2\", \"<br><b>Confirmed: </b>273<br><b>Deaths: </b> 3\", \"<br><b>Confirmed: </b>321<br><b>Deaths: </b> 4\", \"<br><b>Confirmed: </b>382<br><b>Deaths: </b> 6\", \"<br><b>Confirmed: </b>459<br><b>Deaths: </b> 8\", \"<br><b>Confirmed: </b>459<br><b>Deaths: </b> 8\", \"<br><b>Confirmed: </b>801<br><b>Deaths: </b> 8\", \"<br><b>Confirmed: </b>1143<br><b>Deaths: </b> 21\", \"<br><b>Confirmed: </b>1144<br><b>Deaths: </b> 21\", \"<br><b>Confirmed: </b>1551<br><b>Deaths: </b> 56\", \"<br><b>Confirmed: </b>1960<br><b>Deaths: </b> 56\", \"<br><b>Confirmed: </b>2642<br><b>Deaths: </b> 72\", \"<br><b>Confirmed: </b>2716<br><b>Deaths: </b> 138\", \"<br><b>Confirmed: </b>4014<br><b>Deaths: </b> 178\", \"<br><b>Confirmed: </b>5067<br><b>Deaths: </b> 234\", \"<br><b>Confirmed: </b>5741<br><b>Deaths: </b> 282\", \"<br><b>Confirmed: </b>6726<br><b>Deaths: </b> 336\", \"<br><b>Confirmed: </b>8164<br><b>Deaths: </b> 423\", \"<br><b>Confirmed: </b>9640<br><b>Deaths: </b> 466\", \"<br><b>Confirmed: </b>11812<br><b>Deaths: </b> 580\", \"<br><b>Confirmed: </b>14745<br><b>Deaths: </b> 761\", \"<br><b>Confirmed: </b>17312<br><b>Deaths: </b> 1021\", \"<br><b>Confirmed: </b>19780<br><b>Deaths: </b> 1231\", \"<br><b>Confirmed: </b>22453<br><b>Deaths: </b> 1411\", \"<br><b>Confirmed: </b>25481<br><b>Deaths: </b> 1793\", \"<br><b>Confirmed: </b>29865<br><b>Deaths: </b> 2357\", \"<br><b>Confirmed: </b>34173<br><b>Deaths: </b> 2926\", \"<br><b>Confirmed: </b>38689<br><b>Deaths: </b> 3611\", \"<br><b>Confirmed: </b>42477<br><b>Deaths: </b> 4320\", \"<br><b>Confirmed: </b>48436<br><b>Deaths: </b> 4943\", \"<br><b>Confirmed: </b>52279<br><b>Deaths: </b> 5385\", \"<br><b>Confirmed: </b>55949<br><b>Deaths: </b> 6171\", \"<br><b>Confirmed: </b>61474<br><b>Deaths: </b> 7111\", \"<br><b>Confirmed: </b>65872<br><b>Deaths: </b> 7993\", \"<br><b>Confirmed: </b>74605<br><b>Deaths: </b> 8974\", \"<br><b>Confirmed: </b>79874<br><b>Deaths: </b> 9892\", \"<br><b>Confirmed: </b>85206<br><b>Deaths: </b> 10629\", \"<br><b>Confirmed: </b>89570<br><b>Deaths: </b> 11347\"], \"type\": \"scattergl\", \"x\": [\"2020-03-05T00:00:00\", \"2020-03-06T00:00:00\", \"2020-03-07T00:00:00\", \"2020-03-08T00:00:00\", \"2020-03-09T00:00:00\", \"2020-03-10T00:00:00\", \"2020-03-11T00:00:00\", \"2020-03-12T00:00:00\", \"2020-03-13T00:00:00\", \"2020-03-14T00:00:00\", \"2020-03-15T00:00:00\", \"2020-03-16T00:00:00\", \"2020-03-17T00:00:00\", \"2020-03-18T00:00:00\", \"2020-03-19T00:00:00\", \"2020-03-20T00:00:00\", \"2020-03-21T00:00:00\", \"2020-03-22T00:00:00\", \"2020-03-23T00:00:00\", \"2020-03-24T00:00:00\", \"2020-03-25T00:00:00\", \"2020-03-26T00:00:00\", \"2020-03-27T00:00:00\", \"2020-03-28T00:00:00\", \"2020-03-29T00:00:00\", \"2020-03-30T00:00:00\", \"2020-03-31T00:00:00\", \"2020-04-01T00:00:00\", \"2020-04-02T00:00:00\", \"2020-04-03T00:00:00\", \"2020-04-04T00:00:00\", \"2020-04-05T00:00:00\", \"2020-04-06T00:00:00\", \"2020-04-07T00:00:00\", \"2020-04-08T00:00:00\", \"2020-04-09T00:00:00\", \"2020-04-10T00:00:00\", \"2020-04-11T00:00:00\", \"2020-04-12T00:00:00\", \"2020-04-13T00:00:00\"], \"y\": [0.8695652173913043, 1.2269938650306749, 0.9708737864077669, 1.098901098901099, 1.2461059190031152, 1.5706806282722512, 1.7429193899782136, 1.7429193899782136, 0.9987515605493134, 1.837270341207349, 1.8356643356643356, 3.610573823339781, 2.857142857142857, 2.7252081756245268, 5.08100147275405, 4.434479322371699, 4.618117229129663, 4.912036230621843, 4.9955396966993755, 5.181283684468398, 4.834024896265561, 4.9102607517778525, 5.161071549677857, 5.89764325323475, 6.223458038422649, 6.284238186433884, 7.036615517444371, 7.892181483341703, 8.562315278143563, 9.333402259040037, 10.170209760576313, 10.20521925840284, 10.300503070066375, 11.029687751344975, 11.567491947815336, 12.134138936118532, 12.028684404530528, 12.384505596314195, 12.474473628617703, 12.66830411968293]}, {\"hovertemplate\": \"<b>Date</b>: %{x}<br><b>Rate</b>: %{y}%{text}\", \"line\": {\"width\": 3}, \"mode\": \"lines\", \"name\": \"US\", \"showlegend\": true, \"text\": [\"<br><b>Confirmed: </b>70<br><b>Deaths: </b> 1\", \"<br><b>Confirmed: </b>76<br><b>Deaths: </b> 1\", \"<br><b>Confirmed: </b>101<br><b>Deaths: </b> 6\", \"<br><b>Confirmed: </b>122<br><b>Deaths: </b> 7\", \"<br><b>Confirmed: </b>153<br><b>Deaths: </b> 11\", \"<br><b>Confirmed: </b>221<br><b>Deaths: </b> 12\", \"<br><b>Confirmed: </b>278<br><b>Deaths: </b> 14\", \"<br><b>Confirmed: </b>417<br><b>Deaths: </b> 17\", \"<br><b>Confirmed: </b>537<br><b>Deaths: </b> 21\", \"<br><b>Confirmed: </b>605<br><b>Deaths: </b> 22\", \"<br><b>Confirmed: </b>959<br><b>Deaths: </b> 28\", \"<br><b>Confirmed: </b>1281<br><b>Deaths: </b> 36\", \"<br><b>Confirmed: </b>1663<br><b>Deaths: </b> 40\", \"<br><b>Confirmed: </b>2179<br><b>Deaths: </b> 47\", \"<br><b>Confirmed: </b>2726<br><b>Deaths: </b> 54\", \"<br><b>Confirmed: </b>3499<br><b>Deaths: </b> 63\", \"<br><b>Confirmed: </b>4632<br><b>Deaths: </b> 85\", \"<br><b>Confirmed: </b>6421<br><b>Deaths: </b> 108\", \"<br><b>Confirmed: </b>7786<br><b>Deaths: </b> 118\", \"<br><b>Confirmed: </b>13680<br><b>Deaths: </b> 200\", \"<br><b>Confirmed: </b>19101<br><b>Deaths: </b> 244\", \"<br><b>Confirmed: </b>25514<br><b>Deaths: </b> 307\", \"<br><b>Confirmed: </b>33848<br><b>Deaths: </b> 427\", \"<br><b>Confirmed: </b>43667<br><b>Deaths: </b> 552\", \"<br><b>Confirmed: </b>53740<br><b>Deaths: </b> 706\", \"<br><b>Confirmed: </b>65778<br><b>Deaths: </b> 942\", \"<br><b>Confirmed: </b>83836<br><b>Deaths: </b> 1209\", \"<br><b>Confirmed: </b>101657<br><b>Deaths: </b> 1581\", \"<br><b>Confirmed: </b>121465<br><b>Deaths: </b> 2026\", \"<br><b>Confirmed: </b>140909<br><b>Deaths: </b> 2467\", \"<br><b>Confirmed: </b>161831<br><b>Deaths: </b> 2978\", \"<br><b>Confirmed: </b>188172<br><b>Deaths: </b> 3873\", \"<br><b>Confirmed: </b>213372<br><b>Deaths: </b> 4757\", \"<br><b>Confirmed: </b>243599<br><b>Deaths: </b> 5926\", \"<br><b>Confirmed: </b>275586<br><b>Deaths: </b> 7087\", \"<br><b>Confirmed: </b>308853<br><b>Deaths: </b> 8407\", \"<br><b>Confirmed: </b>337072<br><b>Deaths: </b> 9619\", \"<br><b>Confirmed: </b>366667<br><b>Deaths: </b> 10783\", \"<br><b>Confirmed: </b>396223<br><b>Deaths: </b> 12722\", \"<br><b>Confirmed: </b>429052<br><b>Deaths: </b> 14695\", \"<br><b>Confirmed: </b>461437<br><b>Deaths: </b> 16478\", \"<br><b>Confirmed: </b>496535<br><b>Deaths: </b> 18586\", \"<br><b>Confirmed: </b>526396<br><b>Deaths: </b> 20463\", \"<br><b>Confirmed: </b>555313<br><b>Deaths: </b> 22020\", \"<br><b>Confirmed: </b>580619<br><b>Deaths: </b> 23529\"], \"type\": \"scattergl\", \"x\": [\"2020-02-29T00:00:00\", \"2020-03-01T00:00:00\", \"2020-03-02T00:00:00\", \"2020-03-03T00:00:00\", \"2020-03-04T00:00:00\", \"2020-03-05T00:00:00\", \"2020-03-06T00:00:00\", \"2020-03-07T00:00:00\", \"2020-03-08T00:00:00\", \"2020-03-09T00:00:00\", \"2020-03-10T00:00:00\", \"2020-03-11T00:00:00\", \"2020-03-12T00:00:00\", \"2020-03-13T00:00:00\", \"2020-03-14T00:00:00\", \"2020-03-15T00:00:00\", \"2020-03-16T00:00:00\", \"2020-03-17T00:00:00\", \"2020-03-18T00:00:00\", \"2020-03-19T00:00:00\", \"2020-03-20T00:00:00\", \"2020-03-21T00:00:00\", \"2020-03-22T00:00:00\", \"2020-03-23T00:00:00\", \"2020-03-24T00:00:00\", \"2020-03-25T00:00:00\", \"2020-03-26T00:00:00\", \"2020-03-27T00:00:00\", \"2020-03-28T00:00:00\", \"2020-03-29T00:00:00\", \"2020-03-30T00:00:00\", \"2020-03-31T00:00:00\", \"2020-04-01T00:00:00\", \"2020-04-02T00:00:00\", \"2020-04-03T00:00:00\", \"2020-04-04T00:00:00\", \"2020-04-05T00:00:00\", \"2020-04-06T00:00:00\", \"2020-04-07T00:00:00\", \"2020-04-08T00:00:00\", \"2020-04-09T00:00:00\", \"2020-04-10T00:00:00\", \"2020-04-11T00:00:00\", \"2020-04-12T00:00:00\", \"2020-04-13T00:00:00\"], \"y\": [1.4285714285714286, 1.3157894736842104, 5.9405940594059405, 5.737704918032787, 7.18954248366013, 5.429864253393665, 5.0359712230215825, 4.07673860911271, 3.910614525139665, 3.6363636363636362, 2.9197080291970803, 2.810304449648712, 2.4052916416115453, 2.1569527306103717, 1.9809244314013204, 1.8005144326950557, 1.8350604490500866, 1.6819809998442612, 1.5155407141022348, 1.461988304093567, 1.2774200303649024, 1.2032609547699302, 1.2615220987946112, 1.2641124876909338, 1.313732787495348, 1.4320897564535255, 1.4421012452884203, 1.5552298415259156, 1.6679701971761411, 1.7507753230808536, 1.8401913106883105, 2.0582233275939035, 2.229439664060889, 2.4326865052812203, 2.571611039748028, 2.7220069094358803, 2.8536929795414627, 2.9408155083495378, 3.210818150385011, 3.424992774768559, 3.571018362203291, 3.7431399599222615, 3.8873775636592987, 3.9653312636297002, 4.052399249766197]}],\n",
       "                        {\"height\": 600, \"legend\": {\"traceorder\": \"normal\"}, \"plot_bgcolor\": \"white\", \"template\": {\"data\": {\"bar\": [{\"error_x\": {\"color\": \"#2a3f5f\"}, \"error_y\": {\"color\": \"#2a3f5f\"}, \"marker\": {\"line\": {\"color\": \"#E5ECF6\", \"width\": 0.5}}, \"type\": \"bar\"}], \"barpolar\": [{\"marker\": {\"line\": {\"color\": \"#E5ECF6\", \"width\": 0.5}}, \"type\": \"barpolar\"}], \"carpet\": [{\"aaxis\": {\"endlinecolor\": \"#2a3f5f\", \"gridcolor\": \"white\", \"linecolor\": \"white\", \"minorgridcolor\": \"white\", \"startlinecolor\": \"#2a3f5f\"}, \"baxis\": {\"endlinecolor\": \"#2a3f5f\", \"gridcolor\": \"white\", \"linecolor\": \"white\", \"minorgridcolor\": \"white\", \"startlinecolor\": \"#2a3f5f\"}, \"type\": \"carpet\"}], \"choropleth\": [{\"colorbar\": {\"outlinewidth\": 0, \"ticks\": \"\"}, \"type\": \"choropleth\"}], \"contour\": [{\"colorbar\": {\"outlinewidth\": 0, \"ticks\": \"\"}, \"colorscale\": [[0.0, \"#0d0887\"], [0.1111111111111111, \"#46039f\"], [0.2222222222222222, \"#7201a8\"], [0.3333333333333333, \"#9c179e\"], [0.4444444444444444, \"#bd3786\"], [0.5555555555555556, \"#d8576b\"], [0.6666666666666666, \"#ed7953\"], [0.7777777777777778, \"#fb9f3a\"], [0.8888888888888888, \"#fdca26\"], [1.0, \"#f0f921\"]], \"type\": \"contour\"}], \"contourcarpet\": [{\"colorbar\": {\"outlinewidth\": 0, \"ticks\": \"\"}, \"type\": \"contourcarpet\"}], \"heatmap\": [{\"colorbar\": {\"outlinewidth\": 0, \"ticks\": \"\"}, \"colorscale\": [[0.0, \"#0d0887\"], [0.1111111111111111, \"#46039f\"], [0.2222222222222222, \"#7201a8\"], [0.3333333333333333, \"#9c179e\"], [0.4444444444444444, \"#bd3786\"], [0.5555555555555556, \"#d8576b\"], [0.6666666666666666, \"#ed7953\"], [0.7777777777777778, \"#fb9f3a\"], [0.8888888888888888, \"#fdca26\"], [1.0, \"#f0f921\"]], \"type\": \"heatmap\"}], \"heatmapgl\": [{\"colorbar\": {\"outlinewidth\": 0, \"ticks\": \"\"}, \"colorscale\": [[0.0, \"#0d0887\"], [0.1111111111111111, \"#46039f\"], [0.2222222222222222, \"#7201a8\"], [0.3333333333333333, \"#9c179e\"], [0.4444444444444444, \"#bd3786\"], [0.5555555555555556, \"#d8576b\"], [0.6666666666666666, \"#ed7953\"], [0.7777777777777778, \"#fb9f3a\"], [0.8888888888888888, \"#fdca26\"], [1.0, \"#f0f921\"]], \"type\": \"heatmapgl\"}], \"histogram\": [{\"marker\": {\"colorbar\": {\"outlinewidth\": 0, \"ticks\": \"\"}}, \"type\": \"histogram\"}], \"histogram2d\": [{\"colorbar\": {\"outlinewidth\": 0, \"ticks\": \"\"}, \"colorscale\": [[0.0, \"#0d0887\"], [0.1111111111111111, \"#46039f\"], [0.2222222222222222, \"#7201a8\"], [0.3333333333333333, \"#9c179e\"], [0.4444444444444444, \"#bd3786\"], [0.5555555555555556, \"#d8576b\"], [0.6666666666666666, \"#ed7953\"], [0.7777777777777778, \"#fb9f3a\"], [0.8888888888888888, \"#fdca26\"], [1.0, \"#f0f921\"]], \"type\": \"histogram2d\"}], \"histogram2dcontour\": [{\"colorbar\": {\"outlinewidth\": 0, \"ticks\": \"\"}, \"colorscale\": [[0.0, \"#0d0887\"], [0.1111111111111111, \"#46039f\"], [0.2222222222222222, \"#7201a8\"], [0.3333333333333333, \"#9c179e\"], [0.4444444444444444, \"#bd3786\"], [0.5555555555555556, \"#d8576b\"], [0.6666666666666666, \"#ed7953\"], [0.7777777777777778, \"#fb9f3a\"], [0.8888888888888888, \"#fdca26\"], [1.0, \"#f0f921\"]], \"type\": \"histogram2dcontour\"}], \"mesh3d\": [{\"colorbar\": {\"outlinewidth\": 0, \"ticks\": \"\"}, \"type\": \"mesh3d\"}], \"parcoords\": [{\"line\": {\"colorbar\": {\"outlinewidth\": 0, \"ticks\": \"\"}}, \"type\": \"parcoords\"}], \"pie\": [{\"automargin\": true, \"type\": \"pie\"}], \"scatter\": [{\"marker\": {\"colorbar\": {\"outlinewidth\": 0, \"ticks\": \"\"}}, \"type\": \"scatter\"}], \"scatter3d\": [{\"line\": {\"colorbar\": {\"outlinewidth\": 0, \"ticks\": \"\"}}, \"marker\": {\"colorbar\": {\"outlinewidth\": 0, \"ticks\": \"\"}}, \"type\": \"scatter3d\"}], \"scattercarpet\": [{\"marker\": {\"colorbar\": {\"outlinewidth\": 0, \"ticks\": \"\"}}, \"type\": \"scattercarpet\"}], \"scattergeo\": [{\"marker\": {\"colorbar\": {\"outlinewidth\": 0, \"ticks\": \"\"}}, \"type\": \"scattergeo\"}], \"scattergl\": [{\"marker\": {\"colorbar\": {\"outlinewidth\": 0, \"ticks\": \"\"}}, \"type\": \"scattergl\"}], \"scattermapbox\": [{\"marker\": {\"colorbar\": {\"outlinewidth\": 0, \"ticks\": \"\"}}, \"type\": \"scattermapbox\"}], \"scatterpolar\": [{\"marker\": {\"colorbar\": {\"outlinewidth\": 0, \"ticks\": \"\"}}, \"type\": \"scatterpolar\"}], \"scatterpolargl\": [{\"marker\": {\"colorbar\": {\"outlinewidth\": 0, \"ticks\": \"\"}}, \"type\": \"scatterpolargl\"}], \"scatterternary\": [{\"marker\": {\"colorbar\": {\"outlinewidth\": 0, \"ticks\": \"\"}}, \"type\": \"scatterternary\"}], \"surface\": [{\"colorbar\": {\"outlinewidth\": 0, \"ticks\": \"\"}, \"colorscale\": [[0.0, \"#0d0887\"], [0.1111111111111111, \"#46039f\"], [0.2222222222222222, \"#7201a8\"], [0.3333333333333333, \"#9c179e\"], [0.4444444444444444, \"#bd3786\"], [0.5555555555555556, \"#d8576b\"], [0.6666666666666666, \"#ed7953\"], [0.7777777777777778, \"#fb9f3a\"], [0.8888888888888888, \"#fdca26\"], [1.0, \"#f0f921\"]], \"type\": \"surface\"}], \"table\": [{\"cells\": {\"fill\": {\"color\": \"#EBF0F8\"}, \"line\": {\"color\": \"white\"}}, \"header\": {\"fill\": {\"color\": \"#C8D4E3\"}, \"line\": {\"color\": \"white\"}}, \"type\": \"table\"}]}, \"layout\": {\"annotationdefaults\": {\"arrowcolor\": \"#2a3f5f\", \"arrowhead\": 0, \"arrowwidth\": 1}, \"coloraxis\": {\"colorbar\": {\"outlinewidth\": 0, \"ticks\": \"\"}}, \"colorscale\": {\"diverging\": [[0, \"#8e0152\"], [0.1, \"#c51b7d\"], [0.2, \"#de77ae\"], [0.3, \"#f1b6da\"], [0.4, \"#fde0ef\"], [0.5, \"#f7f7f7\"], [0.6, \"#e6f5d0\"], [0.7, \"#b8e186\"], [0.8, \"#7fbc41\"], [0.9, \"#4d9221\"], [1, \"#276419\"]], \"sequential\": [[0.0, \"#0d0887\"], [0.1111111111111111, \"#46039f\"], [0.2222222222222222, \"#7201a8\"], [0.3333333333333333, \"#9c179e\"], [0.4444444444444444, \"#bd3786\"], [0.5555555555555556, \"#d8576b\"], [0.6666666666666666, \"#ed7953\"], [0.7777777777777778, \"#fb9f3a\"], [0.8888888888888888, \"#fdca26\"], [1.0, \"#f0f921\"]], \"sequentialminus\": [[0.0, \"#0d0887\"], [0.1111111111111111, \"#46039f\"], [0.2222222222222222, \"#7201a8\"], [0.3333333333333333, \"#9c179e\"], [0.4444444444444444, \"#bd3786\"], [0.5555555555555556, \"#d8576b\"], [0.6666666666666666, \"#ed7953\"], [0.7777777777777778, \"#fb9f3a\"], [0.8888888888888888, \"#fdca26\"], [1.0, \"#f0f921\"]]}, \"colorway\": [\"#636efa\", \"#EF553B\", \"#00cc96\", \"#ab63fa\", \"#FFA15A\", \"#19d3f3\", \"#FF6692\", \"#B6E880\", \"#FF97FF\", \"#FECB52\"], \"font\": {\"color\": \"#2a3f5f\"}, \"geo\": {\"bgcolor\": \"white\", \"lakecolor\": \"white\", \"landcolor\": \"#E5ECF6\", \"showlakes\": true, \"showland\": true, \"subunitcolor\": \"white\"}, \"hoverlabel\": {\"align\": \"left\"}, \"hovermode\": \"closest\", \"mapbox\": {\"style\": \"light\"}, \"paper_bgcolor\": \"white\", \"plot_bgcolor\": \"#E5ECF6\", \"polar\": {\"angularaxis\": {\"gridcolor\": \"white\", \"linecolor\": \"white\", \"ticks\": \"\"}, \"bgcolor\": \"#E5ECF6\", \"radialaxis\": {\"gridcolor\": \"white\", \"linecolor\": \"white\", \"ticks\": \"\"}}, \"scene\": {\"xaxis\": {\"backgroundcolor\": \"#E5ECF6\", \"gridcolor\": \"white\", \"gridwidth\": 2, \"linecolor\": \"white\", \"showbackground\": true, \"ticks\": \"\", \"zerolinecolor\": \"white\"}, \"yaxis\": {\"backgroundcolor\": \"#E5ECF6\", \"gridcolor\": \"white\", \"gridwidth\": 2, \"linecolor\": \"white\", \"showbackground\": true, \"ticks\": \"\", \"zerolinecolor\": \"white\"}, \"zaxis\": {\"backgroundcolor\": \"#E5ECF6\", \"gridcolor\": \"white\", \"gridwidth\": 2, \"linecolor\": \"white\", \"showbackground\": true, \"ticks\": \"\", \"zerolinecolor\": \"white\"}}, \"shapedefaults\": {\"line\": {\"color\": \"#2a3f5f\"}}, \"ternary\": {\"aaxis\": {\"gridcolor\": \"white\", \"linecolor\": \"white\", \"ticks\": \"\"}, \"baxis\": {\"gridcolor\": \"white\", \"linecolor\": \"white\", \"ticks\": \"\"}, \"bgcolor\": \"#E5ECF6\", \"caxis\": {\"gridcolor\": \"white\", \"linecolor\": \"white\", \"ticks\": \"\"}}, \"title\": {\"x\": 0.05}, \"xaxis\": {\"automargin\": true, \"gridcolor\": \"white\", \"linecolor\": \"white\", \"ticks\": \"\", \"title\": {\"standoff\": 15}, \"zerolinecolor\": \"white\", \"zerolinewidth\": 2}, \"yaxis\": {\"automargin\": true, \"gridcolor\": \"white\", \"linecolor\": \"white\", \"ticks\": \"\", \"title\": {\"standoff\": 15}, \"zerolinecolor\": \"white\", \"zerolinewidth\": 2}}}, \"width\": 1200, \"xaxis\": {\"gridcolor\": \"gray\", \"linecolor\": \"black\", \"linewidth\": 2, \"range\": [\"2020-01-20\", \"2020-04-16\"], \"showgrid\": true, \"showline\": true, \"showticklabels\": true, \"title\": {\"text\": \"Date\"}, \"type\": \"date\"}, \"yaxis\": {\"gridcolor\": \"gray\", \"linecolor\": \"black\", \"linewidth\": 2, \"showgrid\": true, \"showline\": true, \"title\": {\"text\": \"Mortality Rate (%)\"}, \"zeroline\": true}},\n",
       "                        {\"responsive\": true}\n",
       "                    ).then(function(){\n",
       "                            \n",
       "var gd = document.getElementById('6099935a-b31a-4d24-b188-254ec1089db4');\n",
       "var x = new MutationObserver(function (mutations, observer) {{\n",
       "        var display = window.getComputedStyle(gd).display;\n",
       "        if (!display || display === 'none') {{\n",
       "            console.log([gd, 'removed!']);\n",
       "            Plotly.purge(gd);\n",
       "            observer.disconnect();\n",
       "        }}\n",
       "}});\n",
       "\n",
       "// Listen for the removal of the full notebook cells\n",
       "var notebookContainer = gd.closest('#notebook-container');\n",
       "if (notebookContainer) {{\n",
       "    x.observe(notebookContainer, {childList: true});\n",
       "}}\n",
       "\n",
       "// Listen for the clearing of the current output cell\n",
       "var outputEl = gd.closest('.output');\n",
       "if (outputEl) {{\n",
       "    x.observe(outputEl, {childList: true});\n",
       "}}\n",
       "\n",
       "                        })\n",
       "                };\n",
       "                });\n",
       "            </script>\n",
       "        </div>"
      ]
     },
     "metadata": {},
     "output_type": "display_data"
    }
   ],
   "source": [
    "iplot(fig)"
   ]
  },
  {
   "cell_type": "code",
   "execution_count": 22,
   "metadata": {},
   "outputs": [
    {
     "data": {
      "text/html": [
       "<div>\n",
       "<style scoped>\n",
       "    .dataframe tbody tr th:only-of-type {\n",
       "        vertical-align: middle;\n",
       "    }\n",
       "\n",
       "    .dataframe tbody tr th {\n",
       "        vertical-align: top;\n",
       "    }\n",
       "\n",
       "    .dataframe thead th {\n",
       "        text-align: right;\n",
       "    }\n",
       "</style>\n",
       "<table border=\"1\" class=\"dataframe\">\n",
       "  <thead>\n",
       "    <tr style=\"text-align: right;\">\n",
       "      <th></th>\n",
       "      <th>ObservationDate</th>\n",
       "      <th>Country/Region</th>\n",
       "      <th>SNo</th>\n",
       "      <th>Confirmed</th>\n",
       "      <th>Deaths</th>\n",
       "      <th>Recovered</th>\n",
       "      <th>Rate</th>\n",
       "    </tr>\n",
       "  </thead>\n",
       "  <tbody>\n",
       "    <tr>\n",
       "      <td>696</td>\n",
       "      <td>2020-02-19</td>\n",
       "      <td>Iran</td>\n",
       "      <td>1844</td>\n",
       "      <td>2</td>\n",
       "      <td>2</td>\n",
       "      <td>0.0</td>\n",
       "      <td>100.000000</td>\n",
       "    </tr>\n",
       "    <tr>\n",
       "      <td>727</td>\n",
       "      <td>2020-02-20</td>\n",
       "      <td>Iran</td>\n",
       "      <td>1913</td>\n",
       "      <td>5</td>\n",
       "      <td>2</td>\n",
       "      <td>0.0</td>\n",
       "      <td>40.000000</td>\n",
       "    </tr>\n",
       "    <tr>\n",
       "      <td>758</td>\n",
       "      <td>2020-02-21</td>\n",
       "      <td>Iran</td>\n",
       "      <td>1981</td>\n",
       "      <td>18</td>\n",
       "      <td>4</td>\n",
       "      <td>0.0</td>\n",
       "      <td>22.222222</td>\n",
       "    </tr>\n",
       "    <tr>\n",
       "      <td>791</td>\n",
       "      <td>2020-02-22</td>\n",
       "      <td>Iran</td>\n",
       "      <td>2063</td>\n",
       "      <td>28</td>\n",
       "      <td>5</td>\n",
       "      <td>0.0</td>\n",
       "      <td>17.857143</td>\n",
       "    </tr>\n",
       "    <tr>\n",
       "      <td>824</td>\n",
       "      <td>2020-02-23</td>\n",
       "      <td>Iran</td>\n",
       "      <td>2146</td>\n",
       "      <td>43</td>\n",
       "      <td>8</td>\n",
       "      <td>0.0</td>\n",
       "      <td>18.604651</td>\n",
       "    </tr>\n",
       "  </tbody>\n",
       "</table>\n",
       "</div>"
      ],
      "text/plain": [
       "    ObservationDate Country/Region   SNo  Confirmed  Deaths  Recovered  \\\n",
       "696      2020-02-19           Iran  1844          2       2        0.0   \n",
       "727      2020-02-20           Iran  1913          5       2        0.0   \n",
       "758      2020-02-21           Iran  1981         18       4        0.0   \n",
       "791      2020-02-22           Iran  2063         28       5        0.0   \n",
       "824      2020-02-23           Iran  2146         43       8        0.0   \n",
       "\n",
       "           Rate  \n",
       "696  100.000000  \n",
       "727   40.000000  \n",
       "758   22.222222  \n",
       "791   17.857143  \n",
       "824   18.604651  "
      ]
     },
     "execution_count": 22,
     "metadata": {},
     "output_type": "execute_result"
    }
   ],
   "source": [
    "grouped_df[grouped_df['Country/Region']=='Iran'].head()"
   ]
  },
  {
   "cell_type": "code",
   "execution_count": 23,
   "metadata": {},
   "outputs": [
    {
     "data": {
      "text/html": [
       "<div>\n",
       "<style scoped>\n",
       "    .dataframe tbody tr th:only-of-type {\n",
       "        vertical-align: middle;\n",
       "    }\n",
       "\n",
       "    .dataframe tbody tr th {\n",
       "        vertical-align: top;\n",
       "    }\n",
       "\n",
       "    .dataframe thead th {\n",
       "        text-align: right;\n",
       "    }\n",
       "</style>\n",
       "<table border=\"1\" class=\"dataframe\">\n",
       "  <thead>\n",
       "    <tr style=\"text-align: right;\">\n",
       "      <th></th>\n",
       "      <th>ObservationDate</th>\n",
       "      <th>Country/Region</th>\n",
       "      <th>SNo</th>\n",
       "      <th>Confirmed</th>\n",
       "      <th>Deaths</th>\n",
       "      <th>Recovered</th>\n",
       "      <th>Rate</th>\n",
       "    </tr>\n",
       "  </thead>\n",
       "  <tbody>\n",
       "    <tr>\n",
       "      <td>2197</td>\n",
       "      <td>2020-03-11</td>\n",
       "      <td>Turkey</td>\n",
       "      <td>4916</td>\n",
       "      <td>1</td>\n",
       "      <td>0</td>\n",
       "      <td>0.0</td>\n",
       "      <td>0.0</td>\n",
       "    </tr>\n",
       "    <tr>\n",
       "      <td>2316</td>\n",
       "      <td>2020-03-12</td>\n",
       "      <td>Turkey</td>\n",
       "      <td>5136</td>\n",
       "      <td>1</td>\n",
       "      <td>0</td>\n",
       "      <td>0.0</td>\n",
       "      <td>0.0</td>\n",
       "    </tr>\n",
       "    <tr>\n",
       "      <td>2444</td>\n",
       "      <td>2020-03-13</td>\n",
       "      <td>Turkey</td>\n",
       "      <td>5234</td>\n",
       "      <td>5</td>\n",
       "      <td>0</td>\n",
       "      <td>0.0</td>\n",
       "      <td>0.0</td>\n",
       "    </tr>\n",
       "    <tr>\n",
       "      <td>2586</td>\n",
       "      <td>2020-03-14</td>\n",
       "      <td>Turkey</td>\n",
       "      <td>5563</td>\n",
       "      <td>5</td>\n",
       "      <td>0</td>\n",
       "      <td>0.0</td>\n",
       "      <td>0.0</td>\n",
       "    </tr>\n",
       "    <tr>\n",
       "      <td>2734</td>\n",
       "      <td>2020-03-15</td>\n",
       "      <td>Turkey</td>\n",
       "      <td>5812</td>\n",
       "      <td>6</td>\n",
       "      <td>0</td>\n",
       "      <td>0.0</td>\n",
       "      <td>0.0</td>\n",
       "    </tr>\n",
       "  </tbody>\n",
       "</table>\n",
       "</div>"
      ],
      "text/plain": [
       "     ObservationDate Country/Region   SNo  Confirmed  Deaths  Recovered  Rate\n",
       "2197      2020-03-11         Turkey  4916          1       0        0.0   0.0\n",
       "2316      2020-03-12         Turkey  5136          1       0        0.0   0.0\n",
       "2444      2020-03-13         Turkey  5234          5       0        0.0   0.0\n",
       "2586      2020-03-14         Turkey  5563          5       0        0.0   0.0\n",
       "2734      2020-03-15         Turkey  5812          6       0        0.0   0.0"
      ]
     },
     "execution_count": 23,
     "metadata": {},
     "output_type": "execute_result"
    }
   ],
   "source": [
    "grouped_df[grouped_df['Country/Region']=='Turkey'].head()"
   ]
  },
  {
   "cell_type": "code",
   "execution_count": null,
   "metadata": {},
   "outputs": [],
   "source": []
  }
 ],
 "metadata": {
  "kernelspec": {
   "display_name": "Python 3",
   "language": "python",
   "name": "python3"
  },
  "language_info": {
   "codemirror_mode": {
    "name": "ipython",
    "version": 3
   },
   "file_extension": ".py",
   "mimetype": "text/x-python",
   "name": "python",
   "nbconvert_exporter": "python",
   "pygments_lexer": "ipython3",
   "version": "3.7.4"
  }
 },
 "nbformat": 4,
 "nbformat_minor": 4
}
